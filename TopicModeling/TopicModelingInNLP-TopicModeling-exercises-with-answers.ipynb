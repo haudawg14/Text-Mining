{
 "cells": [
  {
   "cell_type": "code",
   "execution_count": 1,
   "id": "9cc1c444",
   "metadata": {
    "execution": {
     "iopub.execute_input": "2024-04-10T07:53:37.880604Z",
     "iopub.status.busy": "2024-04-10T07:53:37.877748Z",
     "iopub.status.idle": "2024-04-10T07:53:37.901761Z",
     "shell.execute_reply": "2024-04-10T07:53:37.898925Z"
    }
   },
   "outputs": [],
   "source": [
    "#######################################################\n",
    "#######################################################\n",
    "#######################################################\n",
    "\n",
    "## Topic Modeling In N L P: Topic Modeling : EXERCISES ANSWERS ##\n",
    "\n",
    "\n",
    "\n"
   ]
  },
  {
   "cell_type": "markdown",
   "id": "0358dee4",
   "metadata": {},
   "source": [
    "#### Exercise ####\n"
   ]
  },
  {
   "cell_type": "markdown",
   "id": "9481c101",
   "metadata": {},
   "source": [
    "#### Please refer to module 2 of TopicModelingInNLP - TopicModeling for Tasks 1-5\n",
    "#### Task 1:\n",
    "##### Add the packages needed for creating and working with an LDA model.\n",
    "#### Result:\n"
   ]
  },
  {
   "cell_type": "code",
   "execution_count": 2,
   "id": "ffe42bb5",
   "metadata": {
    "execution": {
     "iopub.execute_input": "2024-04-10T07:53:37.916027Z",
     "iopub.status.busy": "2024-04-10T07:53:37.914538Z",
     "iopub.status.idle": "2024-04-10T07:53:44.851500Z",
     "shell.execute_reply": "2024-04-10T07:53:44.849047Z"
    }
   },
   "outputs": [
    {
     "name": "stderr",
     "output_type": "stream",
     "text": [
      "[nltk_data] Downloading package punkt to /root/nltk_data...\n",
      "[nltk_data]   Package punkt is already up-to-date!\n",
      "[nltk_data] Downloading package stopwords to /root/nltk_data...\n",
      "[nltk_data]   Package stopwords is already up-to-date!\n"
     ]
    }
   ],
   "source": [
    "import pandas as pd\n",
    "import numpy as np\n",
    "from pprint import pprint\n",
    "# Packages with tools for text processing.\n",
    "import nltk\n",
    "nltk.download('punkt')\n",
    "nltk.download('stopwords')\n",
    "from nltk.corpus import stopwords\n",
    "from nltk.tokenize import word_tokenize\n",
    "from nltk.stem.porter import PorterStemmer\n",
    "import gensim\n",
    "from gensim import corpora, models\n",
    "from gensim.models.coherencemodel import CoherenceModel\n",
    "# Plotting tools.\n",
    "import pyLDAvis\n",
    "import pyLDAvis.gensim  \n",
    "import matplotlib.pyplot as plt\n",
    "\n"
   ]
  },
  {
   "cell_type": "markdown",
   "id": "3fd41497",
   "metadata": {},
   "source": [
    "#### Task 2:\n",
    "##### Use `Path` module from `pathlib` to point `data_dir` to your data directory.\n",
    "#### Result:\n"
   ]
  },
  {
   "cell_type": "code",
   "execution_count": 3,
   "id": "fad4155e",
   "metadata": {
    "execution": {
     "iopub.execute_input": "2024-04-10T07:53:44.864881Z",
     "iopub.status.busy": "2024-04-10T07:53:44.863161Z",
     "iopub.status.idle": "2024-04-10T07:53:44.879137Z",
     "shell.execute_reply": "2024-04-10T07:53:44.876883Z"
    }
   },
   "outputs": [],
   "source": [
    "from pathlib import Path\n",
    "# Set `home_dir` to the root directory of your computer.\n",
    "home_dir = Path(\".\").resolve()\n",
    "# Set `main_dir` to the location of your `course` folder.\n",
    "main_dir = home_dir.parent.parent\n",
    "# Make `data_dir` from the `main_dir` and remainder of the path to data directory.\n",
    "data_dir = str(main_dir) + \"/data\"\n",
    "plot_dir = str(main_dir) + \"/plots\"\n",
    "\n"
   ]
  },
  {
   "cell_type": "markdown",
   "id": "0a112d47",
   "metadata": {},
   "source": [
    "#### Task 3:\n",
    "##### Read in the \"UN_agreement_titles.csv\" dataset and save the dataframe as `ex_df`.\n",
    "##### Remove all rows from the dataset where `title` is empty. \n",
    "##### Subset the `title` column from `ex_df` and call it `ex_df_text`.\n",
    "##### Tokenize all documents in `ex_df_text` into a list of tokenized documents and save it as `ex_df_tokenized`.\n",
    "#### Result:\n"
   ]
  },
  {
   "cell_type": "code",
   "execution_count": 4,
   "id": "acb08a9c",
   "metadata": {
    "execution": {
     "iopub.execute_input": "2024-04-10T07:53:44.889615Z",
     "iopub.status.busy": "2024-04-10T07:53:44.888246Z",
     "iopub.status.idle": "2024-04-10T07:53:45.729090Z",
     "shell.execute_reply": "2024-04-10T07:53:45.726561Z"
    }
   },
   "outputs": [
    {
     "name": "stdout",
     "output_type": "stream",
     "text": [
      "[['Agreement', 'concerning', 'arrangements', 'for', 'the', 'holding', 'of', 'the', 'fifth', 'session', 'of', 'the', 'Council', 'of', 'the', 'United', 'Nations', 'Relief', 'and', 'Rehabilitation', 'Administration', 'at', 'the', 'Palais', 'des', 'Nations', ',', 'Geneva', ',', 'concluded', 'between', 'the', 'United', 'Nations', ',', 'the', 'League', 'of', 'Nations', 'and', 'the', 'United', 'Nations', 'Relief', 'and', 'Rehabilitation', 'Administration'], ['Declaration', 'recognizing', 'as', 'compulsory', 'the', 'jurisdiction', 'of', 'the', 'Court', ',', 'in', 'conformity', 'with', 'Article', '36', ',', 'paragraph', '2', ',', 'of', 'the', 'Statute', 'of', 'the', 'International', 'Court', 'of', 'Justice', ',', 'in', 'all', 'legal', 'disputes', 'concerning', 'the', 'interpretation', ',', 'application', 'or', 'validity', 'of', 'any', 'treaty', 'relating', 'to', 'the', 'boundaries', 'of', 'British', 'Honduras', '.', 'London', ',', '13', 'February', '1946'], ['Declaration', 'renewing', 'for', 'a', 'further', 'period', 'of', 'five', 'years', ',', 'beginning', 'on', '12', 'February', '1951', ',', 'the', 'Declaration', 'recognizing', 'as', 'compulsory', 'the', 'jurisdiction', 'of', 'the', 'Court', ',', 'in', 'conformity', 'with', 'Article', '36', ',', 'paragraph', '2', ',', 'of', 'the', 'Statute', 'of', 'the', 'International', 'Court', 'of', 'Justice', ',', 'in', 'all', 'legal', 'disputes', 'concerning', 'the', 'interpretation', ',', 'application', 'or', 'validity', 'of', 'any', 'treaty', 'relating', 'to', 'the', 'boundaries', 'of', 'British', 'Honduras', '.', 'London', ',', '13', 'February', '1946'], ['Declaration', 'recognizing', 'as', 'compulsory', 'the', 'jurisdiction', 'of', 'the', 'Court', ',', 'in', 'conformity', 'with', 'Article', '36', ',', 'paragraph', '2', ',', 'of', 'the', 'Statute', 'of', 'the', 'International', 'Court', 'of', 'Justice', '.', 'New', 'York', ',', '10', 'December', '1946'], ['Convention', 'between', 'the', 'United', 'Kingdom', 'and', 'France', 'respecting', 'commercial', 'relations', 'between', 'France', 'and', 'the', 'Seychelles', 'Islands', ',', 'signed', 'at', 'London', ',', 'April', '16', ',', '1902', '.', 'Denunciation', 'on', 'the', 'part', 'of', 'the', 'United', 'Kingdom']]\n"
     ]
    }
   ],
   "source": [
    "ex_df = pd.read_csv(str(data_dir)+\"/\"+ \"UN_agreement_titles.csv\")\n",
    "# Drop NAs if any.\n",
    "ex_df = ex_df.dropna(subset = [\"title\"]).reset_index(drop=True)\n",
    "\n",
    "# Isolate the `snippet` column.\n",
    "ex_df_text = ex_df[\"title\"]\n",
    "\n",
    "# Tokenize each document into a large list of tokenized documents.\n",
    "ex_df_tokenized = [word_tokenize(ex_df_text[i]) for i in range(0, len(ex_df_text))]\n",
    "print(ex_df_tokenized[0:5])\n",
    "\n"
   ]
  },
  {
   "cell_type": "markdown",
   "id": "afaf81b9",
   "metadata": {},
   "source": [
    "#### Task 4:\n",
    "##### For each tokenized document in `ex_df_tokenized`, do the following:\n",
    "##### Convert the tokens to lowercase.\n",
    "##### Get common English stopwords from `nltk.corpus` and remove them from tokenized document.\n",
    "##### Remove punctuation and all non-alphabetical characters.\n",
    "##### Perform stemming of tokens using `PorterStemmer()`.\n",
    "##### Save the number of words in each document as a list and call it `ex_word_counts_per_document`.\n",
    "##### Save the list of clean documents as `ex_df_clean`.\n",
    "#### Result:\n"
   ]
  },
  {
   "cell_type": "code",
   "execution_count": 5,
   "id": "cc518a1c",
   "metadata": {
    "execution": {
     "iopub.execute_input": "2024-04-10T07:53:45.739871Z",
     "iopub.status.busy": "2024-04-10T07:53:45.738946Z",
     "iopub.status.idle": "2024-04-10T07:53:47.226669Z",
     "shell.execute_reply": "2024-04-10T07:53:47.224308Z"
    }
   },
   "outputs": [],
   "source": [
    "# Get common English stop words.\n",
    "stop_words = stopwords.words('english')\n",
    "\n",
    "# Create a list for clean documents.\n",
    "ex_df_clean = [None] * len(ex_df_tokenized)\n",
    "\n",
    "# Create a list of word counts for each clean document.\n",
    "ex_word_counts_per_document = [None] * len(ex_df_tokenized)\n",
    "\n",
    "# Process words in all documents.\n",
    "for i in range(len(ex_df_tokenized)):\n",
    "    # 1. Convert to lowercase.\n",
    "    ex_df_clean[i] = [document.lower() for document in ex_df_tokenized[i]]\n",
    "    # 2. Remove stop words.\n",
    "    ex_df_clean[i] = [word for word in ex_df_clean[i] if not word in stop_words]\n",
    "    # 3. Remove punctuation and any non-alphabetical characters.\n",
    "    ex_df_clean[i] = [word for word in ex_df_clean[i] if word.isalpha()]\n",
    "    # 4. Stem words.\n",
    "    ex_df_clean[i] = [PorterStemmer().stem(word) for word in ex_df_clean[i]]\n",
    "    # Record the word count per document.\n",
    "    ex_word_counts_per_document[i] = len(ex_df_clean[i])\n",
    "\n"
   ]
  },
  {
   "cell_type": "markdown",
   "id": "c6064f60",
   "metadata": {},
   "source": [
    "#### Task 5:\n",
    "##### Convert word counts list and documents list to NumPy arrays and call them `ex_word_counts_array` and `ex_df_array` respectively.\n",
    "##### Filter out all documents containing less than 4 words and save the filtered array as a list with the name `ex_df_clean`. Check how many valid documents are left.\n",
    "#### Result:\n"
   ]
  },
  {
   "cell_type": "code",
   "execution_count": 6,
   "id": "eeb816f5",
   "metadata": {
    "execution": {
     "iopub.execute_input": "2024-04-10T07:53:47.237117Z",
     "iopub.status.busy": "2024-04-10T07:53:47.236242Z",
     "iopub.status.idle": "2024-04-10T07:53:47.256671Z",
     "shell.execute_reply": "2024-04-10T07:53:47.254314Z"
    }
   },
   "outputs": [
    {
     "name": "stdout",
     "output_type": "stream",
     "text": [
      "983\n",
      "857\n",
      "[['agreement', 'concern', 'arrang', 'hold', 'fifth', 'session', 'council', 'unit', 'nation', 'relief', 'rehabilit', 'administr', 'palai', 'de', 'nation', 'geneva', 'conclud', 'unit', 'nation', 'leagu', 'nation', 'unit', 'nation', 'relief', 'rehabilit', 'administr'], ['declar', 'recogn', 'compulsori', 'jurisdict', 'court', 'conform', 'articl', 'paragraph', 'statut', 'intern', 'court', 'justic', 'legal', 'disput', 'concern', 'interpret', 'applic', 'valid', 'treati', 'relat', 'boundari', 'british', 'hondura', 'london', 'februari'], ['declar', 'renew', 'period', 'five', 'year', 'begin', 'februari', 'declar', 'recogn', 'compulsori', 'jurisdict', 'court', 'conform', 'articl', 'paragraph', 'statut', 'intern', 'court', 'justic', 'legal', 'disput', 'concern', 'interpret', 'applic', 'valid', 'treati', 'relat', 'boundari', 'british', 'hondura', 'london', 'februari']]\n"
     ]
    }
   ],
   "source": [
    "ex_word_counts_array = np.array(ex_word_counts_per_document)\n",
    "ex_df_array = np.array(ex_df_clean, dtype= object)\n",
    "print(len(ex_df_array))\n",
    "\n",
    "ex_valid_documents = np.where(ex_word_counts_array >= 4)[0]\n",
    "ex_df_array = ex_df_array[ex_valid_documents]\n",
    "print(len(ex_df_array))\n",
    "\n",
    "# Convert the array back to a list.\n",
    "ex_df_clean = ex_df_array.tolist()\n",
    "print(ex_df_clean[0:3])\n"
   ]
  },
  {
   "cell_type": "markdown",
   "id": "79e806d9",
   "metadata": {},
   "source": [
    "#### Please refer to module 3 of TopicModelingInNLP - TopicModeling for Tasks 6-9\n",
    "#### Task 6:\n",
    "##### Given the list of processed documents `ex_df_clean`, set a seed for reproducibility, create a `gensim` dictionary of corpus `ex_df_clean` and save it as `ex_dictionary`.\n",
    "##### Filter out from this dictionary words that occur in less than \"5\" documents and more than \"0.5\" documents. Remember that \"0.5\" is a fraction of the total corpus size.\n",
    "##### Make sure to keep the first \"200\" most frequent words.\n",
    "##### How many words are left in the dictionary?\n",
    "#### Result:\n"
   ]
  },
  {
   "cell_type": "code",
   "execution_count": 7,
   "id": "1ab4b21e",
   "metadata": {
    "execution": {
     "iopub.execute_input": "2024-04-10T07:53:47.266106Z",
     "iopub.status.busy": "2024-04-10T07:53:47.265261Z",
     "iopub.status.idle": "2024-04-10T07:53:47.347629Z",
     "shell.execute_reply": "2024-04-10T07:53:47.345387Z"
    }
   },
   "outputs": [
    {
     "name": "stdout",
     "output_type": "stream",
     "text": [
      "0 administr\n",
      "1 arrang\n",
      "2 concern\n",
      "3 de\n",
      "4 nation\n",
      "5 relief\n",
      "6 unit\n",
      "7 applic\n",
      "8 articl\n",
      "9 compulsori\n",
      "10 februari\n"
     ]
    }
   ],
   "source": [
    "# Set the seed.\n",
    "np.random.seed(100)\n",
    "ex_dictionary = gensim.corpora.Dictionary(ex_df_clean)\n",
    "\n",
    "ex_dictionary.filter_extremes(no_below = 5, no_above = 0.5, keep_n = 200)\n",
    "\n",
    " # Words left in the dictionary.\n",
    "len(ex_dictionary)\n",
    "# Print dictionary keys and values\n",
    "count = 0\n",
    "for k, v in ex_dictionary.iteritems():\n",
    "    print(k, v)\n",
    "    count += 1\n",
    "    if count > 10:\n",
    "        break\n",
    "\n",
    "\n"
   ]
  },
  {
   "cell_type": "markdown",
   "id": "5e009905",
   "metadata": {},
   "source": [
    "#### Task 7:\n",
    "##### Use the dictionary created in Task 6 to transform each document in `ex_df_clean` into  bag-of-words.\n",
    "##### Build the `models.TfidfModel` transformation using the bag-of-words.\n",
    "##### Apply this transformation to the entire corpus.\n",
    "##### Inspect the TF-IDF scores for the first document.\n",
    "#### Result:\n"
   ]
  },
  {
   "cell_type": "code",
   "execution_count": 8,
   "id": "198b71f7",
   "metadata": {
    "execution": {
     "iopub.execute_input": "2024-04-10T07:53:47.357327Z",
     "iopub.status.busy": "2024-04-10T07:53:47.356467Z",
     "iopub.status.idle": "2024-04-10T07:53:47.412428Z",
     "shell.execute_reply": "2024-04-10T07:53:47.409831Z"
    }
   },
   "outputs": [
    {
     "name": "stdout",
     "output_type": "stream",
     "text": [
      "[(0, 2), (1, 1), (2, 1), (3, 1), (4, 5), (5, 2), (6, 3)]\n",
      "[(0, 0.37421377520832816),\n",
      " (1, 0.18710688760416408),\n",
      " (2, 0.06475646625501938),\n",
      " (3, 0.1593591956618582),\n",
      " (4, 0.7846615184322249),\n",
      " (5, 0.36478372202169385),\n",
      " (6, 0.21588294868103092)]\n"
     ]
    }
   ],
   "source": [
    "ex_bow_corpus = [ex_dictionary.doc2bow(doc) for doc in ex_df_clean]\n",
    "print(ex_bow_corpus[0])\n",
    "\n",
    "# Define the transformation.\n",
    "ex_tfidf = models.TfidfModel(ex_bow_corpus)\n",
    "\n",
    "ex_corpus_tfidf = ex_tfidf[ex_bow_corpus]\n",
    "\n",
    "# Preview TF-IDF scores for the first document.\n",
    "for doc in ex_corpus_tfidf:\n",
    "    pprint(doc)\n",
    "    break\n",
    "\n",
    "\n"
   ]
  },
  {
   "cell_type": "markdown",
   "id": "07ab4959",
   "metadata": {},
   "source": [
    "#### Task 8:\n",
    "##### Use the clean corpus `ex_df_clean`, dictionary `ex_dictionary` and TF-IDF matrix for the corpus `ex_corpus_tfidf`, build a parallelized LDA model to detect 3 topics.\n",
    "##### Use 3 workers and 2 passes for the LDA model. Save the model as `ex_lda_model_tfidf`.\n",
    "##### Print all topics and the top words within them.\n",
    "##### Classify the 2nd document as one of the 3 topics.\n",
    "#### Result:\n"
   ]
  },
  {
   "cell_type": "code",
   "execution_count": 9,
   "id": "0aebbbd8",
   "metadata": {
    "execution": {
     "iopub.execute_input": "2024-04-10T07:53:47.421948Z",
     "iopub.status.busy": "2024-04-10T07:53:47.421092Z",
     "iopub.status.idle": "2024-04-10T07:53:57.080641Z",
     "shell.execute_reply": "2024-04-10T07:53:57.076983Z"
    }
   },
   "outputs": [
    {
     "name": "stdout",
     "output_type": "stream",
     "text": [
      "LdaMulticore<num_terms=200, num_topics=3, decay=0.5, chunksize=2000>\n",
      "Topic: 0 Word: 0.023*\"assist\" + 0.023*\"state\" + 0.023*\"unit\" + 0.020*\"america\" + 0.020*\"mutual\" + 0.019*\"amend\" + 0.019*\"note\" + 0.018*\"constitut\" + 0.018*\"defens\" + 0.018*\"relat\"\n",
      "Topic: 1 Word: 0.029*\"loan\" + 0.028*\"amend\" + 0.027*\"convent\" + 0.026*\"govern\" + 0.023*\"extend\" + 0.023*\"note\" + 0.021*\"exchang\" + 0.020*\"concern\" + 0.020*\"constitut\" + 0.018*\"protocol\"\n",
      "Topic: 2 Word: 0.045*\"commod\" + 0.044*\"sale\" + 0.044*\"agricultur\" + 0.025*\"develop\" + 0.024*\"credit\" + 0.023*\"concern\" + 0.023*\"amend\" + 0.021*\"exchang\" + 0.021*\"letter\" + 0.020*\"constitut\"\n",
      "\n",
      "Score: 0.8449630737304688\t \n",
      "Topic: 0.023*\"assist\" + 0.023*\"state\" + 0.023*\"unit\" + 0.020*\"america\" + 0.020*\"mutual\" + 0.019*\"amend\" + 0.019*\"note\" + 0.018*\"constitut\" + 0.018*\"defens\" + 0.018*\"relat\"\n",
      "\n",
      "Score: 0.07797370851039886\t \n",
      "Topic: 0.045*\"commod\" + 0.044*\"sale\" + 0.044*\"agricultur\" + 0.025*\"develop\" + 0.024*\"credit\" + 0.023*\"concern\" + 0.023*\"amend\" + 0.021*\"exchang\" + 0.021*\"letter\" + 0.020*\"constitut\"\n",
      "\n",
      "Score: 0.07706326991319656\t \n",
      "Topic: 0.029*\"loan\" + 0.028*\"amend\" + 0.027*\"convent\" + 0.026*\"govern\" + 0.023*\"extend\" + 0.023*\"note\" + 0.021*\"exchang\" + 0.020*\"concern\" + 0.020*\"constitut\" + 0.018*\"protocol\"\n"
     ]
    }
   ],
   "source": [
    "# Build model.\n",
    "ex_lda_model_tfidf = gensim.models.LdaMulticore(ex_corpus_tfidf, \n",
    "                                             num_topics = 3, \n",
    "                                             id2word = ex_dictionary, \n",
    "                                             workers = 3, \n",
    "                                             passes = 2)\n",
    "\n",
    "print(ex_lda_model_tfidf)\n",
    "\n",
    "# Top words in each topic.\n",
    "for idx, topic in ex_lda_model_tfidf.print_topics(-1):\n",
    "    print('Topic: {} Word: {}'.format(idx, topic))\n",
    "# Classify the 2nd document.\n",
    "for index, score in sorted(ex_lda_model_tfidf[ex_corpus_tfidf[1]], key=lambda tup: -1*tup[1]):\n",
    "    print(\"\\nScore: {}\\t \\nTopic: {}\".format(score, ex_lda_model_tfidf.print_topic(index, 10)))\n",
    "\n"
   ]
  },
  {
   "cell_type": "markdown",
   "id": "45c6d10b",
   "metadata": {},
   "source": [
    "#### Task 9:\n",
    "##### Use the convenience function `compute_coherence_values()` from TopicModeling-3 slides to determine the best number of topics within the corpus. Remember to set a seed for reproducibility of your results.\n",
    "##### Plot a graph of number of topics and their coherence scores. Label the X-axis as \"Num Topics\" and Y-axis as \"Coherence Score\".\n",
    "##### What is the optimal number of topics according to you?\n",
    "#### Result:\n"
   ]
  },
  {
   "cell_type": "code",
   "execution_count": 10,
   "id": "e5f2d441",
   "metadata": {
    "execution": {
     "iopub.execute_input": "2024-04-10T07:53:57.097259Z",
     "iopub.status.busy": "2024-04-10T07:53:57.095978Z",
     "iopub.status.idle": "2024-04-10T07:54:12.998970Z",
     "shell.execute_reply": "2024-04-10T07:54:12.996378Z"
    }
   },
   "outputs": [
    {
     "data": {
      "image/png": "[encoded data removed]",
      "text/plain": [
       "<Figure size 640x480 with 1 Axes>"
      ]
     },
     "metadata": {},
     "output_type": "display_data"
    }
   ],
   "source": [
    "def compute_coherence_values(dictionary, corpus, texts, limit = 10, start = 2, step = 3):\n",
    "    coherence_values = []\n",
    "    model_list = []\n",
    "    for num_topics in range(start, limit, step):\n",
    "        model = gensim.models.LdaMulticore(corpus = corpus, \n",
    "                                           id2word = dictionary, num_topics = num_topics)\n",
    "        model_list.append(model)\n",
    "        coherencemodel = CoherenceModel(model = model, texts = texts,\n",
    "                                        dictionary = dictionary, coherence = 'c_v')\n",
    "        coherence_values.append(coherencemodel.get_coherence())\n",
    "\n",
    "    return model_list, coherence_values\n",
    "    \n",
    "np.random.seed(1)\n",
    "ex_model_list, ex_coherence_values = compute_coherence_values(dictionary = ex_dictionary, corpus = ex_corpus_tfidf, texts = ex_df_clean)\n",
    "\n",
    "# Plot graph.\n",
    "limit = 10; start = 2; step = 3;\n",
    "x = range(start, limit, step)\n",
    "plt.plot(x, ex_coherence_values)\n",
    "plt.xlabel(\"Num Topics\")\n",
    "plt.ylabel(\"Coherence Score\")\n",
    "plt.legend((\"coherence_values\"), loc = 'best')\n",
    "plt.show()\n"
   ]
  },
  {
   "cell_type": "markdown",
   "id": "fe6efc0e",
   "metadata": {},
   "source": [
    "#### Please refer to module 4 of TopicModelingInNLP - TopicModeling for Tasks 10-12\n",
    "#### Task 10:\n",
    "##### Using `pyLDAvis` package, prepare LDA vis object of the LDA model `ex_lda_model_tfidf` that you created in Task 8. Call this object as `ex_vis`.\n",
    "##### Display the `ex_vis` object.\n",
    "#### Result:\n"
   ]
  },
  {
   "cell_type": "code",
   "execution_count": 11,
   "id": "f1753484",
   "metadata": {
    "execution": {
     "iopub.execute_input": "2024-04-10T07:54:13.011541Z",
     "iopub.status.busy": "2024-04-10T07:54:13.010053Z",
     "iopub.status.idle": "2024-04-10T07:54:24.343737Z",
     "shell.execute_reply": "2024-04-10T07:54:24.340051Z"
    }
   },
   "outputs": [
    {
     "data": {
      "text/html": [
       "\n",
       "<link rel=\"stylesheet\" type=\"text/css\" href=\"https://cdn.jsdelivr.net/gh/bmabey/pyLDAvis@3.4.0/pyLDAvis/js/ldavis.v1.0.0.css\">\n",
       "\n",
       "\n",
       "<div id=\"ldavis_el189102776709930724881958316\" style=\"background-color:white;\"></div>\n",
       "<script type=\"text/javascript\">\n",
       "\n",
       "var ldavis_el189102776709930724881958316_data = {\"mdsDat\": {\"x\": [0.030933998670785612, -0.0981119439844915, 0.0671779453137059], \"y\": [0.06767204434732975, -0.014838790049142465, -0.05283325429818725], \"topics\": [1, 2, 3], \"cluster\": [1, 1, 1], \"Freq\": [37.78960524039227, 31.799759638923113, 30.41063512068462]}, \"tinfo\": {\"Term\": [\"commod\", \"sale\", \"agricultur\", \"mutual\", \"defens\", \"credit\", \"assist\", \"america\", \"state\", \"extend\", \"develop\", \"servic\", \"norway\", \"road\", \"convent\", \"oper\", \"visa\", \"oslo\", \"letter\", \"research\", \"supplementari\", \"loan\", \"decemb\", \"water\", \"treati\", \"educ\", \"reactor\", \"april\", \"air\", \"luxembourg\", \"road\", \"greec\", \"oper\", \"educ\", \"standard\", \"free\", \"french\", \"philippin\", \"brazil\", \"royal\", \"radio\", \"extend\", \"ankara\", \"invest\", \"either\", \"fund\", \"grant\", \"certain\", \"mission\", \"uss\", \"cotton\", \"textil\", \"convent\", \"fourth\", \"station\", \"taxat\", \"relief\", \"tax\", \"loan\", \"manila\", \"guarante\", \"protocol\", \"govern\", \"trade\", \"amend\", \"project\", \"bank\", \"note\", \"concern\", \"establish\", \"exchang\", \"washington\", \"constitut\", \"transport\", \"juli\", \"unit\", \"republ\", \"annex\", \"intern\", \"state\", \"regul\", \"may\", \"relat\", \"kingdom\", \"gener\", \"commod\", \"sale\", \"oslo\", \"energi\", \"agricultur\", \"atom\", \"credit\", \"pari\", \"administr\", \"offic\", \"servic\", \"djakarta\", \"abolit\", \"organ\", \"visa\", \"nation\", \"territori\", \"peac\", \"commerci\", \"econom\", \"reconstruct\", \"develop\", \"decemb\", \"headquart\", \"letter\", \"implement\", \"supplementari\", \"industri\", \"tokyo\", \"april\", \"civil\", \"air\", \"march\", \"concern\", \"annex\", \"exchang\", \"constitut\", \"amend\", \"note\", \"technic\", \"relat\", \"gener\", \"project\", \"februari\", \"septemb\", \"applic\", \"defens\", \"mutual\", \"norway\", \"water\", \"materi\", \"reactor\", \"period\", \"two\", \"irrig\", \"justic\", \"equip\", \"benelux\", \"understand\", \"mark\", \"paragraph\", \"furnish\", \"compulsori\", \"research\", \"jurisdict\", \"forc\", \"recogn\", \"foreign\", \"indonesia\", \"treati\", \"legal\", \"socialist\", \"netherland\", \"czechoslovak\", \"memorandum\", \"articl\", \"assist\", \"america\", \"state\", \"cooper\", \"franc\", \"unit\", \"luxembourg\", \"relat\", \"octob\", \"republ\", \"note\", \"constitut\", \"amend\", \"may\", \"june\", \"exchang\", \"govern\", \"air\", \"loan\", \"transport\", \"annex\", \"protocol\", \"concern\", \"septemb\", \"project\"], \"Freq\": [33.0, 32.0, 33.0, 13.0, 12.0, 19.0, 21.0, 19.0, 24.0, 22.0, 25.0, 12.0, 7.0, 9.0, 29.0, 11.0, 11.0, 7.0, 21.0, 9.0, 17.0, 34.0, 17.0, 6.0, 9.0, 9.0, 6.0, 16.0, 18.0, 8.0, 8.76435367360026, 6.304469598883693, 9.44334611871642, 8.220551340322006, 4.813548108939538, 3.4163417998506294, 6.119494641237374, 4.289097544461213, 4.475815241847927, 4.1798665416300915, 2.3013368784016706, 17.924947289447793, 3.770583242761664, 4.204060162509086, 2.4361372463837023, 4.323440500552779, 2.6681352534315703, 7.276432127243487, 4.296118265520214, 4.013906392295451, 3.6132568173295705, 3.5918889726969834, 20.88843089893617, 3.454257319093472, 5.178911025180618, 5.950176972101025, 2.5024365328301665, 5.806817701084355, 22.162225429203176, 4.026274406165893, 10.770183490398706, 13.855320499452258, 19.522431467470643, 8.67651006479714, 20.99265832287161, 12.340178374919079, 7.210173894527395, 17.24575721771616, 15.635555269366709, 8.87376062099012, 16.109857724725444, 7.758072359310505, 15.186998301439399, 8.229131036804496, 7.5879798232286015, 11.009994857628781, 8.739849395055938, 10.540162460392665, 7.289294207652609, 8.993503866901435, 6.646239238406808, 7.309737899047377, 7.459504040107006, 6.699235161273091, 6.7273272870414695, 28.820145099368805, 28.221662057913615, 6.1461473351085605, 4.074760774740865, 28.20984386331614, 3.2910292079522927, 15.302912146434767, 4.637689929897905, 2.9937928799909823, 4.200717628347886, 9.099458292402629, 4.075704746753155, 5.519268562677823, 3.4201703220291644, 8.272589059096758, 5.492343226636503, 5.396546817209247, 4.537577749822569, 3.4630881471557675, 6.072994289818963, 2.325411044036345, 15.872799655487222, 11.022283817640856, 2.2195351311736697, 13.343585173638902, 2.34329656191307, 10.437689966414666, 4.955237807735843, 3.9670375959884847, 9.512232487571678, 4.4036165758667165, 9.026699466096616, 7.42673629737642, 14.628063085242568, 11.741560580613031, 13.630939107656587, 12.971536969976027, 14.51163388831473, 11.809814901689291, 5.969104127966933, 7.916211508687348, 6.151702891558588, 7.116738401013211, 5.884940468698741, 5.693497800018553, 5.5675008664845205, 11.055473935475922, 11.992233606200859, 6.347080315896793, 5.141710913356978, 3.51625719437109, 4.936191445428159, 3.521679331247236, 3.335323267103725, 3.537613651724103, 2.924335246015234, 4.010507739258936, 3.5964596833370934, 4.57479383741297, 3.5732248142481837, 2.7522682116062605, 2.9771390103053865, 2.5205396511638547, 6.7694160376684716, 2.302896747417427, 4.7844657194075735, 2.2888349748968637, 3.615715763443771, 3.1598712586605506, 6.644397396369816, 2.8829146511238535, 4.888848719186086, 3.857951072764348, 3.3127262628193, 4.584304029798394, 4.097819989471696, 14.27311457860862, 12.368102450175007, 14.057316048072646, 4.697928632253179, 4.2654419929113025, 13.935228152418274, 5.216235833487013, 10.812691721444056, 6.1938320094482835, 8.925572415871303, 11.550354050065414, 11.186101782521634, 11.825561535055286, 7.205305957478399, 7.0000153199727135, 10.51772015280815, 9.300358319867971, 6.954686301454214, 7.858243249858551, 5.857475886712642, 7.176769659561546, 6.414083580018432, 7.086829577977128, 5.421805072032864, 5.201843544024037], \"Total\": [33.0, 32.0, 33.0, 13.0, 12.0, 19.0, 21.0, 19.0, 24.0, 22.0, 25.0, 12.0, 7.0, 9.0, 29.0, 11.0, 11.0, 7.0, 21.0, 9.0, 17.0, 34.0, 17.0, 6.0, 9.0, 9.0, 6.0, 16.0, 18.0, 8.0, 9.82005226178253, 7.341796902121007, 11.096198011327163, 9.808640736808833, 5.8347912063992595, 4.209290329801055, 7.609578478132999, 5.372044330650874, 5.686061970812064, 5.3323307831042275, 2.938665051925152, 22.95282945577183, 4.897964084183531, 5.476444481046921, 3.191444521540383, 5.700851288359095, 3.543088400484219, 9.724534081784457, 5.809029494599652, 5.476414477924232, 5.072801773709288, 5.071653955832492, 29.539724037574302, 4.886038563775297, 7.4204935700589, 8.551478659495865, 3.637576137818151, 8.863316368163531, 34.16283980411128, 6.226280625976444, 16.95134662068495, 22.66306615444003, 33.97302750682884, 14.30094556712639, 47.329853746241625, 24.658760319956325, 12.445133029781148, 40.60592616947087, 37.350447932586405, 16.845403499101508, 40.258516985190184, 14.12681334877794, 39.344637053937056, 15.47589294694296, 14.38986773848056, 30.38823143578012, 20.238167879172515, 29.458492700567245, 15.11554028964563, 24.719993191388177, 12.430423542416985, 18.15555447461011, 26.188407270238407, 14.1475782016127, 15.846416722309527, 33.00100321318722, 32.86044722926644, 7.222881649208095, 4.812612917953715, 33.980649258337834, 4.053777200603146, 19.168251520709493, 5.967912770568112, 3.9056449474341495, 5.567435754684227, 12.22604163647549, 5.556964505310519, 7.617311490662099, 4.7468412777631235, 11.59800203689134, 7.935570646301207, 7.868975175986239, 6.640585567616986, 5.188027901801307, 9.119211262746783, 3.5914529892432583, 25.357214291193976, 17.812755805725743, 3.6018130496982237, 21.82018490019116, 3.9140104202896127, 17.605648727299, 8.412972065343189, 6.741192624992248, 16.258028655011707, 7.597231266958332, 18.426553590564012, 14.724627334094482, 37.350447932586405, 29.458492700567245, 40.258516985190184, 39.344637053937056, 47.329853746241625, 40.60592616947087, 13.254034481212539, 26.188407270238407, 15.846416722309527, 24.658760319956325, 14.317137383995412, 14.436723471071446, 16.396180635051664, 12.105263668922316, 13.301363442040612, 7.38892545988157, 6.129201921194525, 4.297439959632067, 6.058198645919659, 4.424015450117167, 4.244921742176373, 4.502602358426093, 3.725734160392122, 5.170467995093702, 4.6393776097813895, 5.9335522481738465, 4.638308744168359, 3.5731887930159116, 3.9728601504256957, 3.3795680222400484, 9.125729010311543, 3.143500435363523, 6.531721537382241, 3.14288717838654, 5.0172531112347425, 4.413164145048137, 9.286062121254753, 4.039970418098842, 6.8996112401911915, 5.470022290039852, 4.8867133821566195, 6.7934303069761945, 6.077634730721767, 21.97783151070943, 19.451419577465785, 24.719993191388177, 7.115095618600723, 6.4039452284092135, 30.38823143578012, 8.904410904128763, 26.188407270238407, 11.547370181298845, 20.238167879172515, 40.60592616947087, 39.344637053937056, 47.329853746241625, 18.15555447461011, 17.512217411586214, 40.258516985190184, 33.97302750682884, 18.426553590564012, 34.16283980411128, 15.47589294694296, 29.458492700567245, 22.66306615444003, 37.350447932586405, 14.436723471071446, 24.658760319956325], \"Category\": [\"Default\", \"Default\", \"Default\", \"Default\", \"Default\", \"Default\", \"Default\", \"Default\", \"Default\", \"Default\", \"Default\", \"Default\", \"Default\", \"Default\", \"Default\", \"Default\", \"Default\", \"Default\", \"Default\", \"Default\", \"Default\", \"Default\", \"Default\", \"Default\", \"Default\", \"Default\", \"Default\", \"Default\", \"Default\", \"Default\", \"Topic1\", \"Topic1\", \"Topic1\", \"Topic1\", \"Topic1\", \"Topic1\", \"Topic1\", \"Topic1\", \"Topic1\", \"Topic1\", \"Topic1\", \"Topic1\", \"Topic1\", \"Topic1\", \"Topic1\", \"Topic1\", \"Topic1\", \"Topic1\", \"Topic1\", \"Topic1\", \"Topic1\", \"Topic1\", \"Topic1\", \"Topic1\", \"Topic1\", \"Topic1\", \"Topic1\", \"Topic1\", \"Topic1\", \"Topic1\", \"Topic1\", \"Topic1\", \"Topic1\", \"Topic1\", \"Topic1\", \"Topic1\", \"Topic1\", \"Topic1\", \"Topic1\", \"Topic1\", \"Topic1\", \"Topic1\", \"Topic1\", \"Topic1\", \"Topic1\", \"Topic1\", \"Topic1\", \"Topic1\", \"Topic1\", \"Topic1\", \"Topic1\", \"Topic1\", \"Topic1\", \"Topic1\", \"Topic1\", \"Topic2\", \"Topic2\", \"Topic2\", \"Topic2\", \"Topic2\", \"Topic2\", \"Topic2\", \"Topic2\", \"Topic2\", \"Topic2\", \"Topic2\", \"Topic2\", \"Topic2\", \"Topic2\", \"Topic2\", \"Topic2\", \"Topic2\", \"Topic2\", \"Topic2\", \"Topic2\", \"Topic2\", \"Topic2\", \"Topic2\", \"Topic2\", \"Topic2\", \"Topic2\", \"Topic2\", \"Topic2\", \"Topic2\", \"Topic2\", \"Topic2\", \"Topic2\", \"Topic2\", \"Topic2\", \"Topic2\", \"Topic2\", \"Topic2\", \"Topic2\", \"Topic2\", \"Topic2\", \"Topic2\", \"Topic2\", \"Topic2\", \"Topic2\", \"Topic2\", \"Topic2\", \"Topic3\", \"Topic3\", \"Topic3\", \"Topic3\", \"Topic3\", \"Topic3\", \"Topic3\", \"Topic3\", \"Topic3\", \"Topic3\", \"Topic3\", \"Topic3\", \"Topic3\", \"Topic3\", \"Topic3\", \"Topic3\", \"Topic3\", \"Topic3\", \"Topic3\", \"Topic3\", \"Topic3\", \"Topic3\", \"Topic3\", \"Topic3\", \"Topic3\", \"Topic3\", \"Topic3\", \"Topic3\", \"Topic3\", \"Topic3\", \"Topic3\", \"Topic3\", \"Topic3\", \"Topic3\", \"Topic3\", \"Topic3\", \"Topic3\", \"Topic3\", \"Topic3\", \"Topic3\", \"Topic3\", \"Topic3\", \"Topic3\", \"Topic3\", \"Topic3\", \"Topic3\", \"Topic3\", \"Topic3\", \"Topic3\", \"Topic3\", \"Topic3\", \"Topic3\", \"Topic3\", \"Topic3\", \"Topic3\"], \"logprob\": [30.0, 29.0, 28.0, 27.0, 26.0, 25.0, 24.0, 23.0, 22.0, 21.0, 20.0, 19.0, 18.0, 17.0, 16.0, 15.0, 14.0, 13.0, 12.0, 11.0, 10.0, 9.0, 8.0, 7.0, 6.0, 5.0, 4.0, 3.0, 2.0, 1.0, -4.467, -4.7964, -4.3924, -4.531, -5.0662, -5.4091, -4.8262, -5.1816, -5.139, -5.2074, -5.8042, -3.7515, -5.3104, -5.2016, -5.7472, -5.1736, -5.6563, -4.653, -5.18, -5.2479, -5.3531, -5.359, -3.5985, -5.3981, -4.9931, -4.8542, -5.7204, -4.8786, -3.5393, -5.2448, -4.2609, -4.009, -3.6661, -4.477, -3.5935, -4.1248, -4.6622, -3.7901, -3.8881, -4.4546, -3.8582, -4.5889, -3.9172, -4.53, -4.6111, -4.2389, -4.4698, -4.2825, -4.6513, -4.4412, -4.7436, -4.6485, -4.6282, -4.7357, -4.7315, -3.104, -3.125, -4.6493, -5.0603, -3.1254, -5.2739, -3.737, -4.9309, -5.3685, -5.0298, -4.2569, -5.06, -4.7568, -5.2354, -4.3521, -4.7617, -4.7793, -4.9527, -5.2229, -4.6612, -5.6212, -3.7005, -4.0652, -5.6678, -3.8741, -5.6135, -4.1197, -4.8646, -5.0871, -4.2125, -4.9827, -4.2649, -4.46, -3.7821, -4.002, -3.8527, -3.9023, -3.7901, -3.9962, -4.6785, -4.3962, -4.6484, -4.5026, -4.6927, -4.7258, -4.7481, -4.0175, -3.9362, -4.5724, -4.783, -5.163, -4.8238, -5.1615, -5.2159, -5.157, -5.3474, -5.0315, -5.1405, -4.8999, -5.147, -5.408, -5.3295, -5.4959, -4.508, -5.5863, -4.855, -5.5924, -5.1351, -5.2699, -4.5266, -5.3616, -4.8335, -5.0703, -5.2227, -4.8978, -5.01, -3.762, -3.9053, -3.7773, -4.8733, -4.9699, -3.786, -4.7686, -4.0397, -4.5969, -4.2315, -3.9737, -4.0057, -3.9502, -4.4456, -4.4745, -4.0674, -4.1904, -4.481, -4.3589, -4.6527, -4.4496, -4.5619, -4.4622, -4.73, -4.7714], \"loglift\": [30.0, 29.0, 28.0, 27.0, 26.0, 25.0, 24.0, 23.0, 22.0, 21.0, 20.0, 19.0, 18.0, 17.0, 16.0, 15.0, 14.0, 13.0, 12.0, 11.0, 10.0, 9.0, 8.0, 7.0, 6.0, 5.0, 4.0, 3.0, 2.0, 1.0, 0.8594, 0.8208, 0.8118, 0.7965, 0.7807, 0.7644, 0.7552, 0.748, 0.7338, 0.7296, 0.7287, 0.7259, 0.7115, 0.7087, 0.7031, 0.6966, 0.6895, 0.6831, 0.6714, 0.6625, 0.6339, 0.6281, 0.6266, 0.6264, 0.6135, 0.6105, 0.5991, 0.5502, 0.5404, 0.5372, 0.5196, 0.4811, 0.4191, 0.4734, 0.1602, 0.2809, 0.4273, 0.1168, 0.1023, 0.3322, 0.0572, 0.3738, 0.0212, 0.3415, 0.3332, -0.0421, 0.1335, -0.0547, 0.2438, -0.038, 0.347, 0.0634, -0.2827, 0.2256, 0.1164, 1.0102, 0.9935, 0.9843, 0.9793, 0.9596, 0.9373, 0.9205, 0.8935, 0.8798, 0.864, 0.8504, 0.8357, 0.8235, 0.8179, 0.8078, 0.7777, 0.7685, 0.7649, 0.7415, 0.7392, 0.7111, 0.6773, 0.6657, 0.6616, 0.6539, 0.6327, 0.6229, 0.6164, 0.6155, 0.6097, 0.6004, 0.4321, 0.4613, 0.2083, 0.2259, 0.0627, 0.0361, -0.0365, -0.0893, 0.348, -0.0507, 0.1995, -0.097, 0.2567, 0.2153, 0.0656, 1.0997, 1.0868, 1.0384, 1.0147, 0.9898, 0.9856, 0.9623, 0.9492, 0.9492, 0.9482, 0.9363, 0.9357, 0.9303, 0.9295, 0.9293, 0.9019, 0.8971, 0.8917, 0.8792, 0.8791, 0.8733, 0.8628, 0.8563, 0.8556, 0.8529, 0.8459, 0.8412, 0.8016, 0.7971, 0.7962, 0.7587, 0.7376, 0.6259, 0.7753, 0.784, 0.4107, 0.6556, 0.3058, 0.5675, 0.3717, -0.0668, -0.0673, -0.1965, 0.2662, 0.2734, -0.1519, -0.1051, 0.216, -0.2792, 0.2188, -0.2218, -0.0719, -0.4717, 0.211, -0.3657]}, \"token.table\": {\"Topic\": [1, 2, 3, 2, 3, 1, 2, 3, 1, 2, 3, 1, 2, 3, 1, 2, 3, 1, 3, 1, 2, 3, 1, 2, 3, 1, 2, 3, 1, 2, 3, 1, 2, 3, 2, 1, 2, 3, 1, 3, 1, 2, 3, 1, 2, 3, 2, 3, 1, 2, 3, 1, 2, 3, 2, 3, 1, 2, 3, 1, 2, 3, 1, 2, 3, 1, 2, 3, 1, 2, 3, 1, 2, 3, 1, 2, 3, 1, 2, 3, 1, 3, 1, 2, 3, 2, 3, 1, 2, 3, 1, 2, 3, 1, 2, 2, 3, 1, 2, 3, 1, 2, 3, 1, 2, 3, 1, 2, 3, 2, 3, 1, 2, 3, 1, 3, 1, 2, 3, 1, 1, 2, 1, 2, 3, 2, 3, 1, 2, 3, 1, 2, 3, 1, 2, 1, 2, 1, 2, 3, 1, 2, 3, 2, 3, 2, 3, 1, 2, 3, 1, 2, 3, 1, 2, 3, 1, 3, 1, 2, 3, 1, 2, 3, 2, 3, 3, 1, 2, 3, 1, 3, 1, 2, 3, 1, 2, 3, 2, 3, 1, 2, 1, 2, 3, 1, 3, 3, 1, 2, 3, 1, 2, 3, 1, 3, 1, 3, 1, 2, 3, 1, 2, 3, 2, 3, 1, 2, 3, 1, 2, 3, 2, 3, 1, 2, 3, 1, 2, 3, 1, 2, 3, 1, 2, 3, 1, 2, 3, 1, 3, 1, 2, 1, 2, 3, 1, 2, 3, 1, 1, 2, 3, 2, 3, 2, 3, 1, 2, 3, 1, 2, 3, 1, 2, 1, 2, 3, 1, 2, 3, 1, 3, 1, 2, 3, 1, 2, 3, 1, 2, 3, 1, 2, 3, 1, 2, 3, 1, 2, 1, 2, 3, 1, 2, 3, 1, 2, 3, 1, 2, 3, 1, 2, 3, 1, 2, 3, 1, 2, 3, 1, 2, 3, 1, 2, 3, 1, 2, 3, 1, 2, 3, 1, 2, 3, 2, 3, 1, 2, 3, 1, 2, 3, 1, 2, 1, 2, 3, 1, 2, 3, 1, 3], \"Freq\": [0.26255982868125555, 0.7876794860437666, 0.13127991434062777, 0.7681189766035641, 0.25603965886785474, 0.11771405453703977, 0.8239983817592784, 0.029428513634259943, 0.10853901627183137, 0.48842557322324115, 0.37988655695140977, 0.44369458888656654, 0.31692470634754755, 0.25353976507803805, 0.3084607771738635, 0.05141012952897726, 0.616921554347727, 0.816665849575494, 0.2041664623938735, 0.3734067493476401, 0.4073528174701529, 0.2376224768575892, 0.3659388813497964, 0.3659388813497964, 0.304949067791497, 0.12301614435791261, 0.6150807217895631, 0.30754036089478154, 0.16453769341304952, 0.16453769341304952, 0.6581507736521981, 0.2730023659102264, 0.09100078863674214, 0.637005520457195, 0.7400505384345349, 0.5624688770500911, 0.16070539344288315, 0.24105809016432475, 0.21554615384004508, 0.8621846153601803, 0.7034745700157632, 0.1758686425039408, 0.1758686425039408, 0.7198288309886304, 0.20566538028246584, 0.10283269014123292, 0.5265075998669001, 0.3948806999001751, 0.19275146913778074, 0.5782544074133422, 0.19275146913778074, 0.09090632732041305, 0.8787611640973262, 0.03030210910680435, 0.2958958048541302, 0.8876874145623905, 0.4283750499827553, 0.4016016093588331, 0.18741408436745544, 0.3812463685822465, 0.33041351943794695, 0.2795806702936474, 0.7109071152217997, 0.1354108790898666, 0.1354108790898666, 0.14054624893384962, 0.14054624893384962, 0.7027312446692482, 0.7885188853092433, 0.19712972132731083, 0.19712972132731083, 0.10433919848345, 0.7825439886258749, 0.10433919848345, 0.2046365157513447, 0.2046365157513447, 0.6139095472540341, 0.2806977232794488, 0.6175349912147874, 0.11227908931177953, 0.08260869216482139, 0.9086956138130353, 0.23661905172618558, 0.6309841379364949, 0.11830952586309279, 0.7198174464093473, 0.17995436160233683, 0.10965860656010196, 0.6579516393606117, 0.2193172131202039, 0.8156074031724337, 0.10195092539655422, 0.10195092539655422, 0.626675471405243, 0.8311493295207228, 0.19340609030921532, 0.7736243612368613, 0.5342703723588478, 0.2968168735326932, 0.17809012411961592, 0.3974314306184176, 0.34775250179111544, 0.2732341085501621, 0.7842170410704478, 0.13070284017840794, 0.0871352267856053, 0.34923182378548046, 0.4190781885425765, 0.20953909427128825, 0.15309899454176307, 0.7654949727088154, 0.1993122487204758, 0.1993122487204758, 0.7972489948819032, 0.6139943352559193, 0.20466477841863975, 0.1561537402855657, 0.1561537402855657, 0.6246149611422628, 0.7127092134178803, 0.7884799423833648, 0.1314133237305608, 0.7016495954153087, 0.17541239885382717, 0.17541239885382717, 0.25170782814815396, 0.7551234844444618, 0.4417402446664793, 0.3786344954284109, 0.18931724771420544, 0.5887023167417106, 0.14717557918542765, 0.26491604253376977, 0.8467189245377006, 0.28223964151256686, 0.8172386242755681, 0.13620643737926136, 0.6489159974215384, 0.11798472680391607, 0.23596945360783214, 0.27763795238728023, 0.5552759047745605, 0.27763795238728023, 0.5109848429713716, 0.2554924214856858, 0.2265947893921114, 0.6797843681763343, 0.23772811611236636, 0.5943202902809158, 0.11886405805618318, 0.463099556209387, 0.3307853972924193, 0.19847123837545158, 0.7304009040616308, 0.1826002260154077, 0.1826002260154077, 0.2220937849705109, 0.8883751398820436, 0.5559467359527467, 0.27797336797637334, 0.13898668398818667, 0.34261794831477793, 0.2284119655431853, 0.39972093970057426, 0.31811670478879933, 0.6362334095775987, 0.8052104285626914, 0.49478432988637316, 0.2827339027922132, 0.21205042709415994, 0.2475265649273212, 0.7425796947819636, 0.27497475513818564, 0.5957786361327356, 0.13748737756909282, 0.6439745678681091, 0.11708628506692893, 0.23417257013385787, 0.33691167583124126, 0.5615194597187355, 0.6424381167966863, 0.32121905839834314, 0.33956716774913775, 0.47539403484879283, 0.1358268670996551, 0.21559582493452542, 0.8623832997381017, 0.9307867096629472, 0.3855569384999642, 0.2203182505714081, 0.3855569384999642, 0.1472010390646235, 0.1472010390646235, 0.7360051953231175, 0.6885831796375951, 0.17214579490939877, 0.07518026286233001, 0.9021631543479602, 0.1260148821768858, 0.630074410884429, 0.2520297643537716, 0.18281461152742662, 0.18281461152742662, 0.7312584461097065, 0.13533767601656493, 0.8120260560993896, 0.4186581024909923, 0.29552336646422983, 0.29552336646422983, 0.25979941345073954, 0.25979941345073954, 0.5195988269014791, 0.7184636116608177, 0.17961590291520443, 0.8110886261053261, 0.09012095845614734, 0.09012095845614734, 0.21066640771928966, 0.6319992231578689, 0.21066640771928966, 0.1384488973468973, 0.8306933840813839, 0.8395861998290558, 0.16756277084539317, 0.8378138542269659, 0.16756277084539317, 0.15058912950034556, 0.7529456475017278, 0.15058912950034556, 0.22603899359653357, 0.9041559743861343, 0.7445954935958919, 0.18614887339897299, 0.4866424688141522, 0.2838747734749221, 0.2027676953392301, 0.6177451852540788, 0.08824931217915412, 0.2647479365374623, 0.6805811362168607, 0.16506556790994692, 0.16506556790994692, 0.8253278395497347, 0.3181787774238109, 0.6363575548476218, 0.5568776776391586, 0.2784388388195793, 0.5631344721371346, 0.24134334520162912, 0.24134334520162912, 0.26729384218623675, 0.3054786767842706, 0.420033180578372, 0.8247250054261203, 0.2749083351420401, 0.4447042861652547, 0.1482347620550849, 0.4447042861652547, 0.10958028655793506, 0.21916057311587012, 0.7670620059055454, 0.9164920674634297, 0.10183245194038107, 0.7501410101327944, 0.1875352525331986, 0.1875352525331986, 0.09129516646773192, 0.8520882203654979, 0.03043172215591064, 0.20780338461226688, 0.41560676922453377, 0.34633897435377814, 0.08179262182590431, 0.7361335964331388, 0.16358524365180863, 0.1449357021994024, 0.1449357021994024, 0.724678510997012, 0.8569286925839421, 0.17138573851678843, 0.36407777018059106, 0.08090617115124245, 0.5663431980586972, 0.6738096263804609, 0.13476192527609218, 0.13476192527609218, 0.3407997111004782, 0.567999518500797, 0.056799951850079695, 0.6769475161184157, 0.11282458601973595, 0.2256491720394719, 0.7016330437002714, 0.11693884061671188, 0.23387768123342376, 0.3017948991810727, 0.45269234877160913, 0.3017948991810727, 0.12708135146387312, 0.6354067573193656, 0.12708135146387312, 0.7886973430827096, 0.1971743357706774, 0.1971743357706774, 0.14834170385409362, 0.5933668154163745, 0.29668340770818724, 0.6293290158860765, 0.06992544620956406, 0.3496272310478203, 0.5169330149431077, 0.06461662686788847, 0.3876997612073308, 0.21537654754885008, 0.10768827377442504, 0.7538179164209753, 0.23557560321178017, 0.7067268096353405, 0.16853310768566457, 0.16853310768566457, 0.8426655384283228, 0.36198223721069306, 0.16453738055031503, 0.4607046655408821, 0.730404905641136, 0.182601226410284, 0.2586652416905509, 0.689773977841469, 0.08622174723018362, 0.5662989807033907, 0.21236211776377148, 0.21236211776377148, 0.1631533783447469, 0.8157668917237345], \"Term\": [\"abolit\", \"abolit\", \"abolit\", \"administr\", \"administr\", \"agricultur\", \"agricultur\", \"agricultur\", \"air\", \"air\", \"air\", \"amend\", \"amend\", \"amend\", \"america\", \"america\", \"america\", \"ankara\", \"ankara\", \"annex\", \"annex\", \"annex\", \"applic\", \"applic\", \"applic\", \"april\", \"april\", \"april\", \"articl\", \"articl\", \"articl\", \"assist\", \"assist\", \"assist\", \"atom\", \"bank\", \"bank\", \"bank\", \"benelux\", \"benelux\", \"brazil\", \"brazil\", \"brazil\", \"certain\", \"certain\", \"certain\", \"civil\", \"civil\", \"commerci\", \"commerci\", \"commerci\", \"commod\", \"commod\", \"commod\", \"compulsori\", \"compulsori\", \"concern\", \"concern\", \"concern\", \"constitut\", \"constitut\", \"constitut\", \"convent\", \"convent\", \"convent\", \"cooper\", \"cooper\", \"cooper\", \"cotton\", \"cotton\", \"cotton\", \"credit\", \"credit\", \"credit\", \"czechoslovak\", \"czechoslovak\", \"czechoslovak\", \"decemb\", \"decemb\", \"decemb\", \"defens\", \"defens\", \"develop\", \"develop\", \"develop\", \"djakarta\", \"djakarta\", \"econom\", \"econom\", \"econom\", \"educ\", \"educ\", \"educ\", \"either\", \"energi\", \"equip\", \"equip\", \"establish\", \"establish\", \"establish\", \"exchang\", \"exchang\", \"exchang\", \"extend\", \"extend\", \"extend\", \"februari\", \"februari\", \"februari\", \"forc\", \"forc\", \"foreign\", \"foreign\", \"foreign\", \"fourth\", \"fourth\", \"franc\", \"franc\", \"franc\", \"free\", \"french\", \"french\", \"fund\", \"fund\", \"fund\", \"furnish\", \"furnish\", \"gener\", \"gener\", \"gener\", \"govern\", \"govern\", \"govern\", \"grant\", \"grant\", \"greec\", \"greec\", \"guarante\", \"guarante\", \"guarante\", \"headquart\", \"headquart\", \"headquart\", \"implement\", \"implement\", \"indonesia\", \"indonesia\", \"industri\", \"industri\", \"industri\", \"intern\", \"intern\", \"intern\", \"invest\", \"invest\", \"invest\", \"irrig\", \"irrig\", \"juli\", \"juli\", \"juli\", \"june\", \"june\", \"june\", \"jurisdict\", \"jurisdict\", \"justic\", \"kingdom\", \"kingdom\", \"kingdom\", \"legal\", \"legal\", \"letter\", \"letter\", \"letter\", \"loan\", \"loan\", \"loan\", \"luxembourg\", \"luxembourg\", \"manila\", \"manila\", \"march\", \"march\", \"march\", \"mark\", \"mark\", \"materi\", \"may\", \"may\", \"may\", \"memorandum\", \"memorandum\", \"memorandum\", \"mission\", \"mission\", \"mutual\", \"mutual\", \"nation\", \"nation\", \"nation\", \"netherland\", \"netherland\", \"netherland\", \"norway\", \"norway\", \"note\", \"note\", \"note\", \"octob\", \"octob\", \"octob\", \"offic\", \"offic\", \"oper\", \"oper\", \"oper\", \"organ\", \"organ\", \"organ\", \"oslo\", \"oslo\", \"paragraph\", \"pari\", \"pari\", \"pari\", \"peac\", \"peac\", \"peac\", \"period\", \"period\", \"philippin\", \"philippin\", \"project\", \"project\", \"project\", \"protocol\", \"protocol\", \"protocol\", \"radio\", \"reactor\", \"reactor\", \"reactor\", \"recogn\", \"recogn\", \"reconstruct\", \"reconstruct\", \"regul\", \"regul\", \"regul\", \"relat\", \"relat\", \"relat\", \"relief\", \"relief\", \"republ\", \"republ\", \"republ\", \"research\", \"research\", \"research\", \"road\", \"road\", \"royal\", \"royal\", \"royal\", \"sale\", \"sale\", \"sale\", \"septemb\", \"septemb\", \"septemb\", \"servic\", \"servic\", \"servic\", \"socialist\", \"socialist\", \"socialist\", \"standard\", \"standard\", \"state\", \"state\", \"state\", \"station\", \"station\", \"station\", \"supplementari\", \"supplementari\", \"supplementari\", \"tax\", \"tax\", \"tax\", \"taxat\", \"taxat\", \"taxat\", \"technic\", \"technic\", \"technic\", \"territori\", \"territori\", \"territori\", \"textil\", \"textil\", \"textil\", \"tokyo\", \"tokyo\", \"tokyo\", \"trade\", \"trade\", \"trade\", \"transport\", \"transport\", \"transport\", \"treati\", \"treati\", \"treati\", \"two\", \"two\", \"understand\", \"understand\", \"understand\", \"unit\", \"unit\", \"unit\", \"uss\", \"uss\", \"visa\", \"visa\", \"visa\", \"washington\", \"washington\", \"washington\", \"water\", \"water\"]}, \"R\": 30, \"lambda.step\": 0.01, \"plot.opts\": {\"xlab\": \"PC1\", \"ylab\": \"PC2\"}, \"topic.order\": [2, 3, 1]};\n",
       "\n",
       "function LDAvis_load_lib(url, callback){\n",
       "  var s = document.createElement('script');\n",
       "  s.src = url;\n",
       "  s.async = true;\n",
       "  s.onreadystatechange = s.onload = callback;\n",
       "  s.onerror = function(){console.warn(\"failed to load library \" + url);};\n",
       "  document.getElementsByTagName(\"head\")[0].appendChild(s);\n",
       "}\n",
       "\n",
       "if(typeof(LDAvis) !== \"undefined\"){\n",
       "   // already loaded: just create the visualization\n",
       "   !function(LDAvis){\n",
       "       new LDAvis(\"#\" + \"ldavis_el189102776709930724881958316\", ldavis_el189102776709930724881958316_data);\n",
       "   }(LDAvis);\n",
       "}else if(typeof define === \"function\" && define.amd){\n",
       "   // require.js is available: use it to load d3/LDAvis\n",
       "   require.config({paths: {d3: \"https://d3js.org/d3.v5\"}});\n",
       "   require([\"d3\"], function(d3){\n",
       "      window.d3 = d3;\n",
       "      LDAvis_load_lib(\"https://cdn.jsdelivr.net/gh/bmabey/pyLDAvis@3.4.0/pyLDAvis/js/ldavis.v3.0.0.js\", function(){\n",
       "        new LDAvis(\"#\" + \"ldavis_el189102776709930724881958316\", ldavis_el189102776709930724881958316_data);\n",
       "      });\n",
       "    });\n",
       "}else{\n",
       "    // require.js not available: dynamically load d3 & LDAvis\n",
       "    LDAvis_load_lib(\"https://d3js.org/d3.v5.js\", function(){\n",
       "         LDAvis_load_lib(\"https://cdn.jsdelivr.net/gh/bmabey/pyLDAvis@3.4.0/pyLDAvis/js/ldavis.v3.0.0.js\", function(){\n",
       "                 new LDAvis(\"#\" + \"ldavis_el189102776709930724881958316\", ldavis_el189102776709930724881958316_data);\n",
       "            })\n",
       "         });\n",
       "}\n",
       "</script>"
      ],
      "text/plain": [
       "<IPython.core.display.HTML object>"
      ]
     },
     "execution_count": 11,
     "metadata": {},
     "output_type": "execute_result"
    }
   ],
   "source": [
    "# Prepare LDA vis object.\n",
    "ex_vis = pyLDAvis.gensim.prepare(ex_lda_model_tfidf,   #<- model object\n",
    "                              ex_corpus_tfidf,      #<- corpus object\n",
    "                              ex_dictionary)        #<- dictionary object\n",
    "\n",
    "# Display.\n",
    "pyLDAvis.display(ex_vis)\n",
    "\n"
   ]
  },
  {
   "cell_type": "markdown",
   "id": "105724f6",
   "metadata": {},
   "source": [
    "#### Task 11:\n",
    "##### Loop through the corpus and find the best topic for each document. Hint: Use the convenience function `GetDocTopicPair` from TopicModeling-4 slides that takes in a document index, the corpus TF-IDF matrix and an LDA model to return a tuple of the document index, the best fit topic, and its probability.\n",
    "##### Convert the list of tuples into a dataframe and call it `ex_doc_topic_pairs_df`.\n",
    "##### Assign column names to `ex_doc_topic_pairs_df`.\n",
    "#### Result:\n"
   ]
  },
  {
   "cell_type": "code",
   "execution_count": 12,
   "id": "0ac80f6e",
   "metadata": {
    "execution": {
     "iopub.execute_input": "2024-04-10T07:54:24.372350Z",
     "iopub.status.busy": "2024-04-10T07:54:24.371019Z",
     "iopub.status.idle": "2024-04-10T07:54:26.074585Z",
     "shell.execute_reply": "2024-04-10T07:54:26.071565Z"
    }
   },
   "outputs": [
    {
     "name": "stdout",
     "output_type": "stream",
     "text": [
      "[(0, 2, 0.7254368), (1, 0, 0.84495693), (2, 0, 0.85225695), (3, 0, 0.8039518), (4, 0, 0.64166516)]\n",
      "   doc_id  best_topic  best_probability\n",
      "0       0           2          0.725437\n",
      "1       1           0          0.844957\n",
      "2       2           0          0.852257\n",
      "3       3           0          0.803952\n",
      "4       4           0          0.641665\n"
     ]
    }
   ],
   "source": [
    "# Convenience function\n",
    "def GetDocTopicPair(doc_num, corpus, lda_model_tfidf):\n",
    "    # Extract the vector of tf_idf weights for the document.\n",
    "    doc_vec = corpus[doc_num]  \n",
    "    # Extract topic probabilities for that document.\n",
    "    doc_topics = lda_model_tfidf.get_document_topics(doc_vec)\n",
    "    max_prob = 0\n",
    "    best_topic = 0\n",
    "    for topic in doc_topics:\n",
    "        if max_prob <= topic[1]:\n",
    "            max_prob = topic[1]\n",
    "            best_topic = topic[0]\n",
    "    doc_topic_pair = (doc_num, best_topic, max_prob)\n",
    "    return(doc_topic_pair)\n",
    "    \n",
    "# Create an empty list of the same length as the number of documents.\n",
    "ex_doc_topic_pairs = [None]*ex_dictionary.num_docs\n",
    "# Loop through the document indices.\n",
    "for i in range(ex_dictionary.num_docs):\n",
    "    # For each document index, get the document-topic tuple.\n",
    "    ex_doc_topic_pairs[i] = GetDocTopicPair(i, ex_corpus_tfidf, ex_lda_model_tfidf)\n",
    "    \n",
    "print(ex_doc_topic_pairs[:5])\n",
    "\n",
    "# Make a dataframe out of a list of tuples.\n",
    "ex_doc_topic_pairs_df = pd.DataFrame(ex_doc_topic_pairs)\n",
    "\n",
    "# Assign column names.\n",
    "ex_doc_topic_pairs_df.columns = [\"doc_id\", \"best_topic\", \"best_probability\"]\n",
    "print(ex_doc_topic_pairs_df.head())\n",
    "\n"
   ]
  },
  {
   "cell_type": "markdown",
   "id": "b6fe263a",
   "metadata": {},
   "source": [
    "#### Task 12:\n",
    "##### Find the original indices of valid documents that we kept in Task 5. Set them as the index of their respective documents in `ex_doc_topic_pairs_df`.\n",
    "##### Find all the documents assigned to topic 1 (index = 0).\n",
    "##### Sort the documents in decreasing order of probability.\n",
    "##### Save the pyLDA vis object as an HTML file.\n",
    "#### Result:\n"
   ]
  },
  {
   "cell_type": "code",
   "execution_count": 13,
   "id": "91e543b9",
   "metadata": {
    "execution": {
     "iopub.execute_input": "2024-04-10T07:54:26.088872Z",
     "iopub.status.busy": "2024-04-10T07:54:26.087451Z",
     "iopub.status.idle": "2024-04-10T07:54:26.145245Z",
     "shell.execute_reply": "2024-04-10T07:54:26.142860Z"
    }
   },
   "outputs": [
    {
     "name": "stdout",
     "output_type": "stream",
     "text": [
      "    doc_id  best_topic  best_probability\n",
      "0        0           2          0.725437\n",
      "1        1           0          0.844957\n",
      "2        2           0          0.852257\n",
      "3        3           0          0.803952\n",
      "4        4           0          0.641665\n",
      "5        5           2          0.748043\n",
      "6        6           0          0.788631\n",
      "7        7           1          0.696686\n",
      "8        8           2          0.728775\n",
      "11       9           2          0.718844\n",
      "     doc_id  best_topic  best_probability\n",
      "884     767           0          0.864399\n",
      "880     763           0          0.861592\n",
      "883     766           0          0.852669\n",
      "2         2           0          0.852257\n",
      "879     762           0          0.850740\n"
     ]
    }
   ],
   "source": [
    "# Get original indices for each valid document.\n",
    "ex_valid_documents = np.where(ex_word_counts_array >= 4)[0]\n",
    "ex_doc_topic_pairs_df.index = ex_valid_documents\n",
    "print(ex_doc_topic_pairs_df.iloc[0:10, ])\n",
    "\n",
    "ex_topic1_docs = ex_doc_topic_pairs_df.query(\"best_topic==0\")\n",
    "ex_topic1_docs = ex_topic1_docs.sort_values(by = \"best_probability\", ascending = False)\n",
    "print(ex_topic1_docs.head())\n",
    "\n",
    "\n",
    "# Save the plot.\n",
    "pyLDAvis.save_html(ex_vis, plot_dir +\"/df_LDAvis.html\")\n",
    "\n",
    "\n"
   ]
  }
 ],
 "metadata": {
  "language": "python",
  "language_info": {
   "codemirror_mode": {
    "name": "ipython",
    "version": 3
   },
   "file_extension": ".py",
   "mimetype": "text/x-python",
   "name": "python",
   "nbconvert_exporter": "python",
   "pygments_lexer": "ipython3",
   "version": "3.11.5"
  }
 },
 "nbformat": 4,
 "nbformat_minor": 5
}
