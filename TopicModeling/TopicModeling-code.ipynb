{
 "cells": [
  {
   "cell_type": "code",
   "execution_count": 1,
   "id": "752a7203",
   "metadata": {
    "execution": {
     "iopub.execute_input": "2024-04-10T07:52:28.959638Z",
     "iopub.status.busy": "2024-04-10T07:52:28.957582Z",
     "iopub.status.idle": "2024-04-10T07:52:28.982329Z",
     "shell.execute_reply": "2024-04-10T07:52:28.979517Z"
    }
   },
   "outputs": [],
   "source": [
    "#######################################################\n",
    "#######################################################\n",
    "############    COPYRIGHT - DATA SOCIETY   ############\n",
    "#######################################################\n",
    "#######################################################\n",
    "\n",
    "## Topic Modeling In N L P: Topic Modeling - 2 ##\n",
    "\n",
    "## NOTE: To run individual pieces of code, select the line of code and\n",
    "##       press ctrl + enter for PCs or command + enter for Macs\n",
    "\n",
    "\n"
   ]
  },
  {
   "cell_type": "code",
   "execution_count": 2,
   "id": "5de701d7",
   "metadata": {
    "execution": {
     "iopub.execute_input": "2024-04-10T07:52:28.995743Z",
     "iopub.status.busy": "2024-04-10T07:52:28.994253Z",
     "iopub.status.idle": "2024-04-10T07:52:35.995070Z",
     "shell.execute_reply": "2024-04-10T07:52:35.992803Z"
    }
   },
   "outputs": [
    {
     "name": "stderr",
     "output_type": "stream",
     "text": [
      "[nltk_data] Downloading package punkt to /root/nltk_data...\n",
      "[nltk_data]   Package punkt is already up-to-date!\n",
      "[nltk_data] Downloading package stopwords to /root/nltk_data...\n",
      "[nltk_data]   Package stopwords is already up-to-date!\n"
     ]
    }
   ],
   "source": [
    "#=================================================-\n",
    "#### Slide 2/21: Load packages  ####\n",
    "\n",
    "# Helper packages.\n",
    "import os\n",
    "from pathlib import Path\n",
    "import numpy as np\n",
    "import pandas as pd\n",
    "import matplotlib.pyplot as plt\n",
    "# Packages with tools for text processing.\n",
    "import nltk\n",
    "nltk.download('punkt')\n",
    "nltk.download('stopwords')\n",
    "from nltk.corpus import stopwords\n",
    "from nltk.tokenize import word_tokenize\n",
    "from nltk.stem.porter import PorterStemmer\n",
    "from sklearn.feature_extraction.text import CountVectorizer\n",
    "import gensim\n",
    "from gensim import corpora, models\n",
    "from pprint import pprint\n",
    "from gensim.models.coherencemodel import CoherenceModel\n",
    "\n",
    "# Other plotting tools.\n",
    "import pyLDAvis\n",
    "import pyLDAvis.gensim  \n",
    "import matplotlib.pyplot as plt\n",
    "\n",
    "\n"
   ]
  },
  {
   "cell_type": "code",
   "execution_count": 3,
   "id": "1d6849cb",
   "metadata": {
    "execution": {
     "iopub.execute_input": "2024-04-10T07:52:36.009302Z",
     "iopub.status.busy": "2024-04-10T07:52:36.007471Z",
     "iopub.status.idle": "2024-04-10T07:52:36.032019Z",
     "shell.execute_reply": "2024-04-10T07:52:36.028774Z"
    }
   },
   "outputs": [
    {
     "name": "stdout",
     "output_type": "stream",
     "text": [
      "/usr/app/20240410_070845231715/assets\n",
      "/usr/app/20240410_070845231715/assets/data\n",
      "/usr/app/20240410_070845231715/assets/plots\n"
     ]
    }
   ],
   "source": [
    "#=================================================-\n",
    "#### Slide 3/21: Directory settings  ####\n",
    "\n",
    "# Set 'main_dir' to location of the project folder\n",
    "home_dir = Path(\".\").resolve()\n",
    "main_dir = home_dir.parent.parent\n",
    "print(main_dir)\n",
    "data_dir = str(main_dir) + \"/data\"\n",
    "print(data_dir)\n",
    "plot_dir = str(main_dir) + \"/plots\"\n",
    "if not os.path.exists(plot_dir):\n",
    "    os.makedirs(plot_dir)\n",
    "print(plot_dir)\n",
    "\n",
    "\n"
   ]
  },
  {
   "cell_type": "code",
   "execution_count": 4,
   "id": "9a8cf0b6",
   "metadata": {
    "execution": {
     "iopub.execute_input": "2024-04-10T07:52:36.044078Z",
     "iopub.status.busy": "2024-04-10T07:52:36.043090Z",
     "iopub.status.idle": "2024-04-10T07:52:36.123096Z",
     "shell.execute_reply": "2024-04-10T07:52:36.120623Z"
    }
   },
   "outputs": [
    {
     "name": "stdout",
     "output_type": "stream",
     "text": [
      "                                             web_url  \\\n",
      "0  https://www.nytimes.com/reuters/2019/01/01/spo...   \n",
      "1  https://www.nytimes.com/reuters/2019/01/01/wor...   \n",
      "2  https://www.nytimes.com/aponline/2019/01/01/sp...   \n",
      "3  https://www.nytimes.com/2019/01/09/arts/design...   \n",
      "4  https://www.nytimes.com/aponline/2019/01/10/sp...   \n",
      "\n",
      "                                            headline  \\\n",
      "0  Kyrgios, Murray Power Into Second Round in Bri...   \n",
      "1  UK Police Treating Manchester Stabbing Attack ...   \n",
      "2  Former NFL Player Wiley Talks Playoffs on Podc...   \n",
      "3    After the Quake, Dana Schutz Gets Back to Work    \n",
      "4  Ogunbowale Helps Irish Beat Cardinals in 1-2 S...   \n",
      "\n",
      "                                             snippet  word_count  \\\n",
      "0  Nick Kyrgios started his Brisbane Open title d...         435   \n",
      "1  British police confirmed on Tuesday they were ...          81   \n",
      "2  Marcellus Wiley is still on the fence about le...         272   \n",
      "3  Still reckoning with the fallout from her Emme...        1540   \n",
      "4  As far as Arike Ogunbowale and coach Muffet Mc...        1059   \n",
      "\n",
      "               source type_of_material        date  id  \n",
      "0             Reuters             News  2019-01-01   8  \n",
      "1             Reuters             News  2019-01-01   9  \n",
      "2                  AP             News  2019-01-01  10  \n",
      "3  The New York Times             News  2019-01-09  11  \n",
      "4                  AP             News  2019-01-11  12  \n"
     ]
    }
   ],
   "source": [
    "#=================================================-\n",
    "#### Slide 5/21: Load data  ####\n",
    "\n",
    "# Let's load and prepare the dataset for creating Document-Term Matrix\n",
    "df = pd.read_csv(str(data_dir)+\"/\"+ \"NYT_article_data.csv\")\n",
    "print(df.head())\n",
    "\n",
    "\n"
   ]
  },
  {
   "cell_type": "code",
   "execution_count": 5,
   "id": "e8007064",
   "metadata": {
    "execution": {
     "iopub.execute_input": "2024-04-10T07:52:36.134293Z",
     "iopub.status.busy": "2024-04-10T07:52:36.132509Z",
     "iopub.status.idle": "2024-04-10T07:52:36.164688Z",
     "shell.execute_reply": "2024-04-10T07:52:36.162251Z"
    }
   },
   "outputs": [
    {
     "name": "stdout",
     "output_type": "stream",
     "text": [
      "0\n",
      "0\n"
     ]
    }
   ],
   "source": [
    "#=================================================-\n",
    "#### Slide 6/21: Check for NAs  ####\n",
    "\n",
    "# Print total number of NAs.\n",
    "print(df[\"snippet\"].isna().sum())\n",
    "# Drop NAs if any.\n",
    "df = df.dropna(subset = [\"snippet\"]).reset_index(drop=True)\n",
    "print(df[\"snippet\"].isna().sum())\n",
    "# Isolate the `snippet` column.\n",
    "df_text = df[\"snippet\"]\n",
    "\n",
    "\n"
   ]
  },
  {
   "cell_type": "code",
   "execution_count": 6,
   "id": "5de6d069",
   "metadata": {
    "execution": {
     "iopub.execute_input": "2024-04-10T07:52:36.175601Z",
     "iopub.status.busy": "2024-04-10T07:52:36.173831Z",
     "iopub.status.idle": "2024-04-10T07:52:36.430972Z",
     "shell.execute_reply": "2024-04-10T07:52:36.428703Z"
    }
   },
   "outputs": [],
   "source": [
    "#=================================================-\n",
    "#### Slide 7/21: Tokenization: split each document into words  ####\n",
    "\n",
    "# Tokenize each document into a large list of tokenized documents.\n",
    "df_tokenized = [word_tokenize(df_text[i]) for i in range(0, len(df_text))]\n",
    "\n",
    "\n"
   ]
  },
  {
   "cell_type": "code",
   "execution_count": 7,
   "id": "4d5a4436",
   "metadata": {
    "execution": {
     "iopub.execute_input": "2024-04-10T07:52:36.440914Z",
     "iopub.status.busy": "2024-04-10T07:52:36.440037Z",
     "iopub.status.idle": "2024-04-10T07:52:36.455456Z",
     "shell.execute_reply": "2024-04-10T07:52:36.453115Z"
    }
   },
   "outputs": [
    {
     "name": "stdout",
     "output_type": "stream",
     "text": [
      "['Nick', 'Kyrgios', 'started', 'his', 'Brisbane', 'Open', 'title', 'defense', 'with', 'a', 'battling', '7-6', '(', '5', ')', '5-7', '7-6', '(', '5', ')', 'victory', 'over', 'American', 'Ryan', 'Harrison', 'in', 'the', 'opening', 'round', 'on', 'Tuesday', '.']\n",
      "['nick', 'kyrgios', 'started', 'his', 'brisbane', 'open', 'title', 'defense', 'with', 'a']\n"
     ]
    }
   ],
   "source": [
    "#=================================================-\n",
    "#### Slide 9/21: Convert characters to lowercase  ####\n",
    "\n",
    "# Let's take a look at the first tokenized document\n",
    "document_words = df_tokenized[0]\n",
    "print(document_words)\n",
    "# 1. Convert to lowercase.\n",
    "document_words = [word.lower() for word in document_words]\n",
    "print(document_words[:10])\n",
    "\n",
    "\n"
   ]
  },
  {
   "cell_type": "code",
   "execution_count": 8,
   "id": "014c5ac9",
   "metadata": {
    "execution": {
     "iopub.execute_input": "2024-04-10T07:52:36.465327Z",
     "iopub.status.busy": "2024-04-10T07:52:36.463949Z",
     "iopub.status.idle": "2024-04-10T07:52:36.483721Z",
     "shell.execute_reply": "2024-04-10T07:52:36.481462Z"
    }
   },
   "outputs": [
    {
     "name": "stdout",
     "output_type": "stream",
     "text": [
      "['i', 'me', 'my', 'myself', 'we', 'our', 'ours', 'ourselves', 'you', \"you're\"]\n",
      "['nick', 'kyrgios', 'started', 'brisbane', 'open', 'title', 'defense', 'battling', '7-6', '(']\n"
     ]
    }
   ],
   "source": [
    "#=================================================-\n",
    "#### Slide 10/21: Remove stop words  ####\n",
    "\n",
    "# 2. Remove stop words.\n",
    "# Get common English stop words.\n",
    "stop_words = stopwords.words('english')\n",
    "print(stop_words[:10])\n",
    "# Remove stop words.\n",
    "document_words = [word for word in document_words if not word in stop_words]\n",
    "print(document_words[:10])\n",
    "\n",
    "\n"
   ]
  },
  {
   "cell_type": "code",
   "execution_count": 9,
   "id": "1da90673",
   "metadata": {
    "execution": {
     "iopub.execute_input": "2024-04-10T07:52:36.493914Z",
     "iopub.status.busy": "2024-04-10T07:52:36.492534Z",
     "iopub.status.idle": "2024-04-10T07:52:36.505667Z",
     "shell.execute_reply": "2024-04-10T07:52:36.503441Z"
    }
   },
   "outputs": [
    {
     "name": "stdout",
     "output_type": "stream",
     "text": [
      "['nick', 'kyrgios', 'started', 'brisbane', 'open', 'title', 'defense', 'battling', 'victory', 'american']\n"
     ]
    }
   ],
   "source": [
    "#=================================================-\n",
    "#### Slide 11/21: Remove non-alphabetical characters  ####\n",
    "\n",
    "# 3. Remove punctuation and any non-alphabetical characters.\n",
    "document_words = [word for word in document_words if word.isalpha()]\n",
    "print(document_words[:10])\n",
    "\n",
    "\n"
   ]
  },
  {
   "cell_type": "code",
   "execution_count": 10,
   "id": "f06335e4",
   "metadata": {
    "execution": {
     "iopub.execute_input": "2024-04-10T07:52:36.516072Z",
     "iopub.status.busy": "2024-04-10T07:52:36.514728Z",
     "iopub.status.idle": "2024-04-10T07:52:36.530366Z",
     "shell.execute_reply": "2024-04-10T07:52:36.528172Z"
    }
   },
   "outputs": [
    {
     "name": "stdout",
     "output_type": "stream",
     "text": [
      "['nick', 'kyrgio', 'start', 'brisban', 'open', 'titl', 'defens', 'battl', 'victori', 'american']\n"
     ]
    }
   ],
   "source": [
    "#=================================================-\n",
    "#### Slide 14/21: Stem words  ####\n",
    "\n",
    "# 4. Stem words.\n",
    "document_words = [PorterStemmer().stem(word) for word in document_words]\n",
    "print(document_words[:10])\n",
    "\n",
    "\n"
   ]
  },
  {
   "cell_type": "code",
   "execution_count": 11,
   "id": "1bfd255a",
   "metadata": {
    "execution": {
     "iopub.execute_input": "2024-04-10T07:52:36.539647Z",
     "iopub.status.busy": "2024-04-10T07:52:36.538764Z",
     "iopub.status.idle": "2024-04-10T07:52:37.140330Z",
     "shell.execute_reply": "2024-04-10T07:52:37.137819Z"
    }
   },
   "outputs": [],
   "source": [
    "#=================================================-\n",
    "#### Slide 16/21: Clean the entire corpus  ####\n",
    "\n",
    "# Create a list for clean documents.\n",
    "df_clean = [None] * len(df_tokenized)\n",
    "# Create a list of word counts for each clean document.\n",
    "word_counts_per_document = [None] * len(df_tokenized)\n",
    "\n",
    "# Process words in all documents.\n",
    "for i in range(len(df_tokenized)):\n",
    "    # 1. Convert to lowercase.\n",
    "    df_clean[i] = [document.lower() for document in df_tokenized[i]]\n",
    "    \n",
    "    # 2. Remove stop words.\n",
    "    df_clean[i] = [word for word in df_clean[i] if not word in stop_words]\n",
    "    \n",
    "    # 3. Remove punctuation and any non-alphabetical characters.\n",
    "    df_clean[i] = [word for word in df_clean[i] if word.isalpha()]\n",
    "    \n",
    "    # 4. Stem words.\n",
    "    df_clean[i] = [PorterStemmer().stem(word) for word in df_clean[i]]\n",
    "    \n",
    "    # Record the word count per document.\n",
    "    word_counts_per_document[i] = len(df_clean[i])\n",
    "\n",
    "\n"
   ]
  },
  {
   "cell_type": "code",
   "execution_count": 12,
   "id": "4115e062",
   "metadata": {
    "execution": {
     "iopub.execute_input": "2024-04-10T07:52:37.152466Z",
     "iopub.status.busy": "2024-04-10T07:52:37.151315Z",
     "iopub.status.idle": "2024-04-10T07:52:37.173847Z",
     "shell.execute_reply": "2024-04-10T07:52:37.171394Z"
    }
   },
   "outputs": [
    {
     "name": "stdout",
     "output_type": "stream",
     "text": [
      "[['nick', 'kyrgio', 'start', 'brisban', 'open', 'titl', 'defens', 'battl', 'victori', 'american', 'ryan', 'harrison', 'open', 'round', 'tuesday'], ['british', 'polic', 'confirm', 'tuesday', 'treat', 'stab', 'attack', 'injur', 'three', 'peopl', 'manchest', 'victoria', 'train', 'station', 'terrorist', 'investig', 'search', 'address', 'cheetham', 'hill', 'area', 'citi']]\n"
     ]
    }
   ],
   "source": [
    "#=================================================-\n",
    "#### Slide 17/21: Clean the entire corpus (cont'd)  ####\n",
    "\n",
    "# Convert word counts list and documents list to NumPy arrays.\n",
    "word_counts_array = np.array(word_counts_per_document)\n",
    "df_array = np.array(df_clean, dtype= object)\n",
    "\n",
    "# Find indices of all documents where there are greater than or equal to 5 words.\n",
    "valid_documents = np.where(word_counts_array >= 5)[0]\n",
    "\n",
    "# Subset the df_array to keep only those where there are at least 5 words.\n",
    "df_array = df_array[valid_documents]\n",
    "\n",
    "# Convert the array back to a list.\n",
    "df_clean = df_array.tolist()   #<- the processed documents\n",
    "\n",
    "print(df_clean[0:2])\n",
    "\n",
    "# Convert word counts list and documents list to NumPy arrays.\n",
    "word_counts_array = np.array(word_counts_per_document)\n",
    "df_array = np.array(df_clean, dtype= object)\n",
    "\n",
    "\n"
   ]
  },
  {
   "cell_type": "code",
   "execution_count": 13,
   "id": "de4dbdea",
   "metadata": {
    "execution": {
     "iopub.execute_input": "2024-04-10T07:52:37.191906Z",
     "iopub.status.busy": "2024-04-10T07:52:37.191007Z",
     "iopub.status.idle": "2024-04-10T07:52:37.203817Z",
     "shell.execute_reply": "2024-04-10T07:52:37.201627Z"
    }
   },
   "outputs": [
    {
     "name": "stdout",
     "output_type": "stream",
     "text": [
      "['nick', 'kyrgio', 'start', 'brisban', 'open', 'titl', 'defens', 'battl', 'victori', 'american', 'ryan', 'harrison', 'open', 'round', 'tuesday']\n",
      "['british', 'polic', 'confirm', 'tuesday', 'treat', 'stab', 'attack', 'injur', 'three', 'peopl', 'manchest', 'victoria', 'train', 'station', 'terrorist', 'investig', 'search', 'address', 'cheetham', 'hill', 'area', 'citi']\n",
      "['marcellu', 'wiley', 'still', 'fenc', 'let', 'young', 'son', 'play', 'footbal', 'former', 'nfl', 'defens', 'end', 'fox', 'sport', 'person', 'tell', 'podcaston', 'sport', 'like', 'nfl', 'tri', 'make', 'footbal', 'safer', 'game', 'de']\n",
      "['still', 'reckon', 'fallout', 'emmett', 'till', 'paint', 'chasten', 'artist', 'reveal', 'controversi', 'chang', 'even', 'move', 'forward', 'new', 'galleri', 'show']\n",
      "['far', 'arik', 'ogunbowal', 'coach', 'muffet', 'mcgraw', 'concern', 'notr', 'dame', 'victori', 'louisvil', 'thursday', 'night', 'anoth', 'atlant', 'coast', 'confer', 'game', 'januari']\n"
     ]
    }
   ],
   "source": [
    "#=================================================-\n",
    "#### Slide 18/21: Clean corpus  ####\n",
    "\n",
    "# Print the first 5 documents of clean corpus\n",
    "for i in range(5):\n",
    "  print(df_array[i])\n",
    "\n",
    "\n",
    "#######################################################\n",
    "####  CONGRATULATIONS ON COMPLETING THIS MODULE!   ####\n",
    "#######################################################\n"
   ]
  },
  {
   "cell_type": "code",
   "execution_count": 14,
   "id": "21af0d19",
   "metadata": {
    "execution": {
     "iopub.execute_input": "2024-04-10T07:52:37.214121Z",
     "iopub.status.busy": "2024-04-10T07:52:37.213237Z",
     "iopub.status.idle": "2024-04-10T07:52:37.223122Z",
     "shell.execute_reply": "2024-04-10T07:52:37.220752Z"
    }
   },
   "outputs": [],
   "source": [
    "#######################################################\n",
    "#######################################################\n",
    "############    COPYRIGHT - DATA SOCIETY   ############\n",
    "#######################################################\n",
    "#######################################################\n",
    "\n",
    "## Topic Modeling In N L P: Topic Modeling - 3 ##\n",
    "\n",
    "## NOTE: To run individual pieces of code, select the line of code and\n",
    "##       press ctrl + enter for PCs or command + enter for Macs\n",
    "\n",
    "\n"
   ]
  },
  {
   "cell_type": "code",
   "execution_count": 15,
   "id": "ea8b4e94",
   "metadata": {
    "execution": {
     "iopub.execute_input": "2024-04-10T07:52:37.233063Z",
     "iopub.status.busy": "2024-04-10T07:52:37.231680Z",
     "iopub.status.idle": "2024-04-10T07:52:37.277815Z",
     "shell.execute_reply": "2024-04-10T07:52:37.275317Z"
    }
   },
   "outputs": [
    {
     "name": "stdout",
     "output_type": "stream",
     "text": [
      "0 american\n",
      "1 battl\n",
      "2 brisban\n",
      "3 defens\n",
      "4 harrison\n",
      "5 kyrgio\n",
      "6 nick\n",
      "7 open\n",
      "8 round\n",
      "9 ryan\n",
      "10 start\n"
     ]
    }
   ],
   "source": [
    "#=================================================-\n",
    "#### Slide 2/24: Create a dictionary of counts   ####\n",
    "\n",
    "# Set the seed.\n",
    "np.random.seed(1)\n",
    "dictionary = gensim.corpora.Dictionary(df_clean)\n",
    "\n",
    "# The loop below iterates through the first 10 items of the dictionary and prints out the key and value. \n",
    "count = 0\n",
    "for k, v in dictionary.iteritems():\n",
    "    print(k, v)\n",
    "    count += 1\n",
    "    if count > 10:\n",
    "        break\n",
    "\n",
    "\n"
   ]
  },
  {
   "cell_type": "code",
   "execution_count": 16,
   "id": "30768927",
   "metadata": {
    "execution": {
     "iopub.execute_input": "2024-04-10T07:52:37.287346Z",
     "iopub.status.busy": "2024-04-10T07:52:37.286478Z",
     "iopub.status.idle": "2024-04-10T07:52:37.322879Z",
     "shell.execute_reply": "2024-04-10T07:52:37.320631Z"
    }
   },
   "outputs": [
    {
     "data": {
      "text/plain": [
       "200"
      ]
     },
     "execution_count": 16,
     "metadata": {},
     "output_type": "execute_result"
    }
   ],
   "source": [
    "#=================================================-\n",
    "#### Slide 3/24: Create a dictionary of counts   ####\n",
    "\n",
    "dictionary.filter_extremes(no_below = 4, no_above = 0.5, keep_n = 200)\n",
    "\n",
    "# How many words are left in the dictionary?\n",
    "len(dictionary)\n",
    "\n",
    "\n"
   ]
  },
  {
   "cell_type": "code",
   "execution_count": 17,
   "id": "fd048080",
   "metadata": {
    "execution": {
     "iopub.execute_input": "2024-04-10T07:52:37.333610Z",
     "iopub.status.busy": "2024-04-10T07:52:37.332232Z",
     "iopub.status.idle": "2024-04-10T07:52:37.355907Z",
     "shell.execute_reply": "2024-04-10T07:52:37.353588Z"
    }
   },
   "outputs": [
    {
     "name": "stdout",
     "output_type": "stream",
     "text": [
      "[(0, 1), (1, 1), (2, 2), (3, 1), (4, 1), (5, 1), (6, 1)]\n"
     ]
    }
   ],
   "source": [
    "#=================================================-\n",
    "#### Slide 4/24: Document to bag-of-words  ####\n",
    "\n",
    "# We use a list comprehension to transform each doc within our df_clean object.\n",
    "bow_corpus = [dictionary.doc2bow(doc) for doc in df_clean]\n",
    "\n",
    "# Let's look at the first document.\n",
    "print(bow_corpus[0])\n",
    "\n",
    "\n"
   ]
  },
  {
   "cell_type": "code",
   "execution_count": 18,
   "id": "756ce2db",
   "metadata": {
    "execution": {
     "iopub.execute_input": "2024-04-10T07:52:37.365325Z",
     "iopub.status.busy": "2024-04-10T07:52:37.364480Z",
     "iopub.status.idle": "2024-04-10T07:52:37.380210Z",
     "shell.execute_reply": "2024-04-10T07:52:37.377974Z"
    }
   },
   "outputs": [
    {
     "name": "stdout",
     "output_type": "stream",
     "text": [
      "Word 0 (\"american\") appears 1 time.\n",
      "Word 1 (\"defens\") appears 1 time.\n",
      "Word 2 (\"open\") appears 2 time.\n",
      "Word 3 (\"round\") appears 1 time.\n",
      "Word 4 (\"start\") appears 1 time.\n",
      "Word 5 (\"tuesday\") appears 1 time.\n",
      "Word 6 (\"victori\") appears 1 time.\n"
     ]
    }
   ],
   "source": [
    "#=================================================-\n",
    "#### Slide 5/24: Document to bag-of-words (cont'd)  ####\n",
    "\n",
    "# Isolate the first document.\n",
    "bow_doc_1 = bow_corpus[0]\n",
    "\n",
    "# Iterate through each dictionary item using the index. \n",
    "# Print out each actual word and how many times it appears.\n",
    "for i in range(len(bow_doc_1)):\n",
    "    print(\"Word {} (\\\"{}\\\") appears {} time.\".format(bow_doc_1[i][0],\n",
    "          \n",
    "          dictionary[bow_doc_1[i][0]],\n",
    "          bow_doc_1[i][1]))\n",
    "\n",
    "\n"
   ]
  },
  {
   "cell_type": "code",
   "execution_count": 19,
   "id": "47155750",
   "metadata": {
    "execution": {
     "iopub.execute_input": "2024-04-10T07:52:37.390827Z",
     "iopub.status.busy": "2024-04-10T07:52:37.389445Z",
     "iopub.status.idle": "2024-04-10T07:52:37.409894Z",
     "shell.execute_reply": "2024-04-10T07:52:37.407574Z"
    }
   },
   "outputs": [
    {
     "name": "stdout",
     "output_type": "stream",
     "text": [
      "[(0, 0.31942373876087665),\n",
      " (1, 0.3549009519669791),\n",
      " (2, 0.6118718565633235),\n",
      " (3, 0.3549009519669791),\n",
      " (4, 0.3059359282816618),\n",
      " (5, 0.22829905152454918),\n",
      " (6, 0.3549009519669791)]\n"
     ]
    }
   ],
   "source": [
    "#=================================================-\n",
    "#### Slide 7/24: Transform counts with TfidfModel (cont'd)  ####\n",
    "\n",
    "# This is the transformation.\n",
    "tfidf = models.TfidfModel(bow_corpus)\n",
    "\n",
    "# Apply the transformation to the entire corpus.\n",
    "corpus_tfidf = tfidf[bow_corpus]\n",
    "\n",
    "# Preview TF-IDF scores for the first document.\n",
    "for doc in corpus_tfidf:\n",
    "    pprint(doc)\n",
    "    break\n",
    "\n",
    "\n"
   ]
  },
  {
   "cell_type": "code",
   "execution_count": 20,
   "id": "81baf2a4",
   "metadata": {
    "execution": {
     "iopub.execute_input": "2024-04-10T07:52:37.419268Z",
     "iopub.status.busy": "2024-04-10T07:52:37.418430Z",
     "iopub.status.idle": "2024-04-10T07:52:39.214979Z",
     "shell.execute_reply": "2024-04-10T07:52:39.212110Z"
    }
   },
   "outputs": [
    {
     "name": "stdout",
     "output_type": "stream",
     "text": [
      "LdaMulticore<num_terms=200, num_topics=5, decay=0.5, chunksize=2000>\n"
     ]
    }
   ],
   "source": [
    "#=================================================-\n",
    "#### Slide 11/24: Running LdaMulticore  ####\n",
    "\n",
    "lda_model_tfidf = gensim.models.LdaMulticore(corpus_tfidf, \n",
    "                                             num_topics = 5, \n",
    "                                             id2word = dictionary, \n",
    "                                             workers = 4, \n",
    "                                             passes = 2)\n",
    "print(lda_model_tfidf)\n",
    "\n",
    "\n"
   ]
  },
  {
   "cell_type": "code",
   "execution_count": 21,
   "id": "032c7257",
   "metadata": {
    "execution": {
     "iopub.execute_input": "2024-04-10T07:52:39.225311Z",
     "iopub.status.busy": "2024-04-10T07:52:39.224358Z",
     "iopub.status.idle": "2024-04-10T07:52:39.240214Z",
     "shell.execute_reply": "2024-04-10T07:52:39.237842Z"
    }
   },
   "outputs": [
    {
     "name": "stdout",
     "output_type": "stream",
     "text": [
      "Topic: 0 Word: 0.020*\"offici\" + 0.020*\"like\" + 0.017*\"say\" + 0.017*\"week\" + 0.017*\"warn\" + 0.015*\"show\" + 0.015*\"state\" + 0.014*\"thursday\" + 0.014*\"help\" + 0.014*\"new\"\n",
      "Topic: 1 Word: 0.023*\"time\" + 0.023*\"latest\" + 0.022*\"world\" + 0.021*\"local\" + 0.020*\"new\" + 0.016*\"year\" + 0.015*\"meet\" + 0.013*\"york\" + 0.013*\"tenni\" + 0.013*\"leader\"\n",
      "Topic: 2 Word: 0.021*\"said\" + 0.020*\"friday\" + 0.018*\"billion\" + 0.018*\"know\" + 0.015*\"set\" + 0.015*\"say\" + 0.013*\"accus\" + 0.012*\"want\" + 0.012*\"govern\" + 0.012*\"court\"\n",
      "Topic: 3 Word: 0.020*\"investig\" + 0.020*\"saturday\" + 0.019*\"presid\" + 0.017*\"polic\" + 0.014*\"said\" + 0.014*\"expect\" + 0.013*\"citi\" + 0.013*\"suspect\" + 0.013*\"year\" + 0.013*\"first\"\n",
      "Topic: 4 Word: 0.022*\"young\" + 0.020*\"tuesday\" + 0.018*\"look\" + 0.018*\"said\" + 0.016*\"talk\" + 0.016*\"close\" + 0.015*\"move\" + 0.015*\"new\" + 0.015*\"south\" + 0.014*\"year\"\n"
     ]
    }
   ],
   "source": [
    "#=================================================-\n",
    "#### Slide 12/24: LDA output  ####\n",
    "\n",
    "for idx, topic in lda_model_tfidf.print_topics(-1):\n",
    "    print('Topic: {} Word: {}'.format(idx, topic))\n",
    "\n",
    "\n"
   ]
  },
  {
   "cell_type": "code",
   "execution_count": 22,
   "id": "c8859293",
   "metadata": {
    "execution": {
     "iopub.execute_input": "2024-04-10T07:52:39.250903Z",
     "iopub.status.busy": "2024-04-10T07:52:39.249470Z",
     "iopub.status.idle": "2024-04-10T07:52:39.273817Z",
     "shell.execute_reply": "2024-04-10T07:52:39.271401Z"
    }
   },
   "outputs": [
    {
     "name": "stdout",
     "output_type": "stream",
     "text": [
      "['nick', 'kyrgio', 'start', 'brisban', 'open', 'titl', 'defens', 'battl', 'victori', 'american', 'ryan', 'harrison', 'open', 'round', 'tuesday']\n",
      "\n",
      "Score: 0.7646151185035706\t \n",
      "Topic: 0.020*\"investig\" + 0.020*\"saturday\" + 0.019*\"presid\" + 0.017*\"polic\" + 0.014*\"said\" + 0.014*\"expect\" + 0.013*\"citi\" + 0.013*\"suspect\" + 0.013*\"year\" + 0.013*\"first\"\n",
      "\n",
      "Score: 0.060962967574596405\t \n",
      "Topic: 0.020*\"offici\" + 0.020*\"like\" + 0.017*\"say\" + 0.017*\"week\" + 0.017*\"warn\" + 0.015*\"show\" + 0.015*\"state\" + 0.014*\"thursday\" + 0.014*\"help\" + 0.014*\"new\"\n",
      "\n",
      "Score: 0.058861665427684784\t \n",
      "Topic: 0.022*\"young\" + 0.020*\"tuesday\" + 0.018*\"look\" + 0.018*\"said\" + 0.016*\"talk\" + 0.016*\"close\" + 0.015*\"move\" + 0.015*\"new\" + 0.015*\"south\" + 0.014*\"year\"\n",
      "\n",
      "Score: 0.05789513885974884\t \n",
      "Topic: 0.023*\"time\" + 0.023*\"latest\" + 0.022*\"world\" + 0.021*\"local\" + 0.020*\"new\" + 0.016*\"year\" + 0.015*\"meet\" + 0.013*\"york\" + 0.013*\"tenni\" + 0.013*\"leader\"\n",
      "\n",
      "Score: 0.05766510218381882\t \n",
      "Topic: 0.021*\"said\" + 0.020*\"friday\" + 0.018*\"billion\" + 0.018*\"know\" + 0.015*\"set\" + 0.015*\"say\" + 0.013*\"accus\" + 0.012*\"want\" + 0.012*\"govern\" + 0.012*\"court\"\n"
     ]
    }
   ],
   "source": [
    "#=================================================-\n",
    "#### Slide 13/24: Classify our documents within topics  ####\n",
    "\n",
    "# Let's look at our first document as an example:\n",
    "print(df_clean[0])\n",
    "for index, score in sorted(lda_model_tfidf[corpus_tfidf[0]], key=lambda tup: -1*tup[1]):\n",
    "    print(\"\\nScore: {}\\t \\nTopic: {}\".format(score, lda_model_tfidf.print_topic(index, 10)))\n",
    "\n",
    "\n"
   ]
  },
  {
   "cell_type": "code",
   "execution_count": 23,
   "id": "0e892019",
   "metadata": {
    "execution": {
     "iopub.execute_input": "2024-04-10T07:52:39.283522Z",
     "iopub.status.busy": "2024-04-10T07:52:39.282611Z",
     "iopub.status.idle": "2024-04-10T07:52:40.457199Z",
     "shell.execute_reply": "2024-04-10T07:52:40.454522Z"
    }
   },
   "outputs": [
    {
     "name": "stdout",
     "output_type": "stream",
     "text": [
      "Coherence Score:  0.5082391247655911\n"
     ]
    }
   ],
   "source": [
    "#=================================================-\n",
    "#### Slide 17/24: Calculate topic coherence  ####\n",
    "\n",
    "# Compute Coherence Score using c_v.\n",
    "coherence_model_lda = CoherenceModel(model = lda_model_tfidf, texts = df_clean, dictionary = dictionary, coherence = 'c_v')\n",
    "coherence_lda = coherence_model_lda.get_coherence()\n",
    "print('Coherence Score: ', coherence_lda)\n",
    "\n",
    "\n"
   ]
  },
  {
   "cell_type": "code",
   "execution_count": 24,
   "id": "d36aa59b",
   "metadata": {
    "execution": {
     "iopub.execute_input": "2024-04-10T07:52:40.467594Z",
     "iopub.status.busy": "2024-04-10T07:52:40.466675Z",
     "iopub.status.idle": "2024-04-10T07:52:40.486004Z",
     "shell.execute_reply": "2024-04-10T07:52:40.483596Z"
    }
   },
   "outputs": [],
   "source": [
    "#=================================================-\n",
    "#### Slide 19/24: Convenience function  ####\n",
    "\n",
    "def compute_coherence_values(dictionary, corpus, texts, limit, start = 2, step = 3):\n",
    "    coherence_values = []\n",
    "    model_list = []\n",
    "    for num_topics in range(start, limit, step):\n",
    "        model = gensim.models.LdaMulticore(corpus = corpus, \n",
    "                                           id2word = dictionary, num_topics = num_topics)\n",
    "        model_list.append(model)\n",
    "        coherencemodel = CoherenceModel(model = model, texts = texts,\n",
    "                                        dictionary = dictionary, coherence = 'c_v')\n",
    "        coherence_values.append(coherencemodel.get_coherence())\n",
    "\n",
    "    return model_list, coherence_values\n",
    "\n",
    "\n"
   ]
  },
  {
   "cell_type": "code",
   "execution_count": 25,
   "id": "2f03c3b1",
   "metadata": {
    "execution": {
     "iopub.execute_input": "2024-04-10T07:52:40.495841Z",
     "iopub.status.busy": "2024-04-10T07:52:40.494967Z",
     "iopub.status.idle": "2024-04-10T07:53:15.069304Z",
     "shell.execute_reply": "2024-04-10T07:53:15.066042Z"
    }
   },
   "outputs": [
    {
     "data": {
      "image/png": "[encoded data removed]",
      "text/plain": [
       "<Figure size 640x480 with 1 Axes>"
      ]
     },
     "metadata": {},
     "output_type": "display_data"
    }
   ],
   "source": [
    "#=================================================-\n",
    "#### Slide 20/24: Run compute_coherence_values function  ####\n",
    "\n",
    "np.random.seed(1)\n",
    "model_list, coherence_values = compute_coherence_values(dictionary = dictionary, \n",
    "                                                        corpus = corpus_tfidf, \n",
    "                                                        texts = df_clean, \n",
    "                                                        start = 2, \n",
    "                                                        limit = 40, \n",
    "                                                        step = 6)\n",
    "# Plot graph of topic list.\n",
    "# Show graph.\n",
    "\n",
    "limit = 40; start = 2; step = 6;\n",
    "x = range(start, limit, step)\n",
    "plt.plot(x, coherence_values)\n",
    "plt.xlabel(\"Num Topics\")\n",
    "plt.ylabel(\"Coherence score\")\n",
    "plt.legend((\"coherence_values\"), loc = 'best')\n",
    "plt.show()\n",
    "\n",
    "\n",
    "#######################################################\n",
    "####  CONGRATULATIONS ON COMPLETING THIS MODULE!   ####\n",
    "#######################################################\n"
   ]
  },
  {
   "cell_type": "code",
   "execution_count": 26,
   "id": "533e99ce",
   "metadata": {
    "execution": {
     "iopub.execute_input": "2024-04-10T07:53:15.088659Z",
     "iopub.status.busy": "2024-04-10T07:53:15.086879Z",
     "iopub.status.idle": "2024-04-10T07:53:15.098633Z",
     "shell.execute_reply": "2024-04-10T07:53:15.096097Z"
    }
   },
   "outputs": [],
   "source": [
    "#######################################################\n",
    "#######################################################\n",
    "############    COPYRIGHT - DATA SOCIETY   ############\n",
    "#######################################################\n",
    "#######################################################\n",
    "\n",
    "## Topic Modeling In N L P: Topic Modeling - 4 ##\n",
    "\n",
    "## NOTE: To run individual pieces of code, select the line of code and\n",
    "##       press ctrl + enter for PCs or command + enter for Macs\n",
    "\n",
    "\n"
   ]
  },
  {
   "cell_type": "code",
   "execution_count": 27,
   "id": "346ee593",
   "metadata": {
    "execution": {
     "iopub.execute_input": "2024-04-10T07:53:15.111144Z",
     "iopub.status.busy": "2024-04-10T07:53:15.109771Z",
     "iopub.status.idle": "2024-04-10T07:53:25.803772Z",
     "shell.execute_reply": "2024-04-10T07:53:25.799426Z"
    }
   },
   "outputs": [
    {
     "data": {
      "text/html": [
       "\n",
       "<link rel=\"stylesheet\" type=\"text/css\" href=\"https://cdn.jsdelivr.net/gh/bmabey/pyLDAvis@3.4.0/pyLDAvis/js/ldavis.v1.0.0.css\">\n",
       "\n",
       "\n",
       "<div id=\"ldavis_el184872776672727849817645010\" style=\"background-color:white;\"></div>\n",
       "<script type=\"text/javascript\">\n",
       "\n",
       "var ldavis_el184872776672727849817645010_data = {\"mdsDat\": {\"x\": [-0.021088343437590192, -0.06702080120950758, 0.0024939695899410335, -0.001687274341827906, 0.0873024493989847], \"y\": [-0.07761123577476711, 0.009140970604068991, 0.05944571864379011, 0.022027015812408977, -0.013002469285501013], \"topics\": [1, 2, 3, 4, 5], \"cluster\": [1, 1, 1, 1, 1], \"Freq\": [23.30618353146516, 20.32499867608917, 19.67686103098652, 18.825237150256864, 17.866719611202292]}, \"tinfo\": {\"Term\": [\"young\", \"investig\", \"look\", \"know\", \"billion\", \"world\", \"warn\", \"tuesday\", \"latest\", \"accus\", \"local\", \"south\", \"time\", \"help\", \"talk\", \"set\", \"meet\", \"say\", \"announc\", \"close\", \"move\", \"expect\", \"call\", \"court\", \"saturday\", \"tenni\", \"would\", \"said\", \"suspect\", \"week\", \"warn\", \"much\", \"data\", \"american\", \"job\", \"build\", \"law\", \"offici\", \"week\", \"help\", \"point\", \"like\", \"weekend\", \"bring\", \"leav\", \"way\", \"democrat\", \"thursday\", \"show\", \"congress\", \"key\", \"state\", \"hous\", \"night\", \"score\", \"leagu\", \"say\", \"peopl\", \"made\", \"includ\", \"kill\", \"move\", \"new\", \"friday\", \"said\", \"donald\", \"investig\", \"search\", \"expect\", \"sever\", \"suspect\", \"busi\", \"hundr\", \"power\", \"thousand\", \"charg\", \"shoot\", \"saturday\", \"protest\", \"men\", \"polic\", \"group\", \"citi\", \"india\", \"secur\", \"man\", \"dollar\", \"nation\", \"parti\", \"target\", \"depart\", \"defens\", \"presid\", \"price\", \"arrest\", \"lead\", \"trump\", \"first\", \"call\", \"end\", \"tuesday\", \"million\", \"said\", \"year\", \"govern\", \"time\", \"donald\", \"new\", \"local\", \"state\", \"tenni\", \"meet\", \"maker\", \"latest\", \"world\", \"season\", \"team\", \"partial\", \"local\", \"money\", \"chines\", \"time\", \"execut\", \"york\", \"accus\", \"tri\", \"sunday\", \"last\", \"leader\", \"shutdown\", \"republican\", \"critic\", \"recent\", \"long\", \"man\", \"handl\", \"elect\", \"make\", \"cup\", \"north\", \"new\", \"day\", \"year\", \"head\", \"end\", \"could\", \"presid\", \"attack\", \"know\", \"billion\", \"set\", \"month\", \"defend\", \"want\", \"white\", \"health\", \"call\", \"provid\", \"school\", \"washington\", \"court\", \"million\", \"long\", \"find\", \"unit\", \"accus\", \"friday\", \"price\", \"offic\", \"play\", \"full\", \"report\", \"handl\", \"round\", \"port\", \"global\", \"market\", \"march\", \"say\", \"said\", \"two\", \"govern\", \"one\", \"even\", \"case\", \"monday\", \"world\", \"like\", \"feder\", \"year\", \"young\", \"look\", \"south\", \"talk\", \"announc\", \"close\", \"would\", \"lawyer\", \"need\", \"game\", \"de\", \"januari\", \"tuesday\", \"intern\", \"defens\", \"forc\", \"move\", \"lead\", \"play\", \"carolina\", \"even\", \"appear\", \"final\", \"former\", \"north\", \"forward\", \"european\", \"mayor\", \"win\", \"anoth\", \"test\", \"make\", \"monday\", \"work\", \"said\", \"two\", \"year\", \"new\", \"minist\", \"help\", \"court\"], \"Freq\": [3.0, 2.0, 2.0, 2.0, 2.0, 4.0, 2.0, 4.0, 4.0, 3.0, 4.0, 2.0, 5.0, 3.0, 2.0, 2.0, 2.0, 4.0, 2.0, 3.0, 3.0, 2.0, 2.0, 2.0, 4.0, 2.0, 2.0, 6.0, 2.0, 3.0, 2.0926744132369346, 1.4566623937510805, 1.3660748856315068, 1.717309415690478, 1.2062379407341663, 1.2632846849362385, 1.1361496526229498, 2.4933682373186628, 2.098338248690171, 1.744572372928043, 1.1433636123063688, 2.4721476906780704, 1.240908767634146, 1.1430708983750246, 1.1973728572248303, 1.2259260438518382, 1.323169240434016, 1.7586458692283855, 1.8678070181072084, 0.8688892950262534, 0.9955497794678225, 1.801697698051281, 1.3248026835526707, 1.2730075716482467, 1.0886482946991929, 1.4073567947653107, 2.1075606442704573, 1.4916934217264648, 1.1105152849765556, 1.1966530328749119, 1.314190214588989, 1.2994915377246619, 1.7305335446811558, 1.2881718404704838, 1.1991603420610064, 1.143897038088874, 2.1580699987827794, 1.1769640151850325, 1.489274237855999, 1.3266472872358368, 1.4229618326612747, 1.1977872564684249, 1.0777397950735266, 1.160927345974565, 1.217243236860092, 1.1484838307283904, 1.0868901737265784, 2.127426101541783, 1.1148837999474095, 0.9426602238083769, 1.846092647249527, 0.9826283424855183, 1.438136140889175, 0.8624041157332024, 0.8891079796711193, 0.9895752008763481, 0.7792160105508265, 1.3548666571286265, 0.8410243759870618, 0.7766901001070884, 0.7325331765848003, 0.8091578852834014, 2.0623375495400347, 0.7465196095174428, 0.7952956113703362, 0.7283889158034956, 1.3110148402879702, 1.3681114616318297, 0.9342057201798228, 1.205244859917061, 1.3195675021024562, 0.9493470738627542, 1.5443851211140216, 1.3740310855368223, 1.2414906266890833, 1.26548969847892, 1.0020925867080341, 1.2886740774812053, 1.0236984732398333, 0.9975391151320918, 1.338354172633384, 1.6093455838121542, 1.0847773832912768, 2.374767352011121, 2.334915671027045, 1.007997060715294, 1.1668417142264214, 1.1382969076815264, 2.1546135082849722, 1.0351243492585596, 1.0459933531773113, 2.3914333596536546, 1.0879367244660838, 1.3620410360068882, 1.3039523600540868, 0.945444505546541, 1.2914086574982662, 0.990287793385829, 1.3329321101774294, 1.058313730059945, 0.747305753498809, 1.036858562382585, 0.807772569811561, 0.7855916668698936, 0.8594495842244702, 0.660043954122422, 0.825907024246202, 1.1064317781528428, 0.8823130988185846, 0.896553452076335, 2.113474363087977, 1.2102688499703378, 1.7078396206071944, 1.0289516237490886, 1.058442905766061, 0.9431512465040534, 1.0636599847185793, 0.9051611006201971, 1.7571772541290251, 1.7826982869015107, 1.5329041336469578, 1.144694122953043, 1.1982848941233764, 1.2320979709987379, 1.0478342550070627, 1.1992001132648036, 1.1675487457312386, 1.0378625200882778, 1.1193471731687024, 0.842364244112609, 1.1993614083873316, 1.1038823499017423, 0.8551034785035183, 0.7429417625706319, 0.9898061878096847, 1.2704544738515577, 1.9959466804062067, 0.7727919545649259, 0.7537100321700257, 0.8139447529230298, 0.7507716233406394, 0.983504196954665, 0.6584495808470293, 0.651748132540124, 0.728727629897857, 0.6403867206628924, 1.0124214814824626, 0.6186145393710367, 1.5014787473006845, 2.136026827217486, 1.1677263757186058, 1.2316286469963824, 0.9675730366320626, 0.9050893783590198, 0.8346463471733148, 0.897094068743711, 0.8964273262320113, 0.9016421618254089, 0.8591540582732521, 0.8588516299185123, 2.092879710393556, 1.7564360480455423, 1.4016466682967423, 1.533503782453364, 1.2846035656882955, 1.5030127212188478, 1.0458370041877223, 1.0562782419214964, 0.9558373283215907, 0.9284947351049797, 1.0009057787611244, 0.7861255116778836, 1.870065800267667, 0.8423451554700854, 0.8461253546482518, 0.8173693172215767, 1.4465404203983099, 0.7739131056525512, 0.8264514160602833, 0.697292779958231, 1.190250517090935, 0.8977948686054605, 1.0165952309663882, 1.0275851029836427, 0.9508656014326526, 0.7606949439320224, 0.9242261424495282, 0.6468077951475448, 0.7574191729163194, 0.9651152097804315, 0.9728511037795183, 1.0542748807578242, 1.2634287451318589, 1.0044865631529007, 1.6743820459271304, 1.0943633654922782, 1.347788021160286, 1.4219270014706018, 0.9234983803570382, 0.9556947879434026, 0.9122770241830369], \"Total\": [3.0, 2.0, 2.0, 2.0, 2.0, 4.0, 2.0, 4.0, 4.0, 3.0, 4.0, 2.0, 5.0, 3.0, 2.0, 2.0, 2.0, 4.0, 2.0, 3.0, 3.0, 2.0, 2.0, 2.0, 4.0, 2.0, 2.0, 6.0, 2.0, 3.0, 2.678980380376182, 2.199983848138844, 2.0843520768978507, 2.6833256754615515, 2.0285979299726877, 2.1387151383913707, 1.9343689061654095, 4.420581966001077, 3.7543847196500746, 3.1395098096175165, 2.0859301104952546, 4.57827681595526, 2.3633842311122537, 2.229068467557445, 2.347226724644707, 2.43509409105542, 2.6738286572589676, 3.658404576654731, 3.9476668041721017, 1.8464344220968048, 2.139158823080688, 3.93012440982767, 2.8950656207691217, 2.7859203970315, 2.4050451912094832, 3.1115377983131, 4.685152576747877, 3.3407069550035002, 2.6096193883490666, 2.8293027305896903, 3.2176505087557716, 3.5946903396166228, 7.028666319525529, 5.060959026545761, 6.978298530987329, 3.1215576788690393, 2.9984381968239915, 1.8390833643216438, 2.34320351920321, 2.2928352471016114, 2.6061927553199413, 2.2560762653661426, 2.0524399233567263, 2.266016700155593, 2.4049620063401966, 2.313572902701111, 2.209966184683182, 4.429531007296017, 2.398369967018096, 2.030663929159652, 4.062481571433881, 2.1644929023152817, 3.191509370798695, 1.9539760225094427, 2.0215293533027863, 2.2939562561691713, 1.8336371052259473, 3.2301201840671356, 2.069263372381426, 1.9410486134214175, 1.8322587598045064, 2.09317467722598, 5.341398812342763, 1.9628520366532811, 2.100133415649868, 1.9390700524384348, 3.5725000985082156, 3.7728953180397373, 2.546482820023733, 3.4966862297442023, 4.413257265520922, 2.6878265041455753, 6.978298530987329, 5.743538323663973, 4.744552931131464, 5.14824472932218, 3.1215576788690393, 7.028666319525529, 4.402691276217847, 3.93012440982767, 2.077770295386016, 2.6326219738727312, 1.9895522116092008, 4.4451415840250075, 4.398165516574055, 1.9671236519730435, 2.3210365428580935, 2.289710987023247, 4.402691276217847, 2.123274358081093, 2.176818441356122, 5.14824472932218, 2.342504206651543, 3.2391083353540777, 3.112244477705158, 2.2662214258361315, 3.11878014571146, 2.420365650251886, 3.3951220321308195, 2.7224354933939705, 1.94525479237198, 2.7437123621538575, 2.1392766004702697, 2.0862840494721477, 2.2939562561691713, 1.7619214363956524, 2.206170757827282, 3.030851360657689, 2.433582456324455, 2.535109695045082, 7.028666319525529, 3.620400575015186, 5.743538323663973, 3.0067926148066286, 3.4966862297442023, 3.010202614393458, 5.341398812342763, 2.838250033667758, 2.447751814305411, 2.69427509990367, 2.6819500590384044, 2.139879613683993, 2.277183681906219, 2.6085988607029207, 2.2402817341757633, 2.5713578453861974, 2.546482820023733, 2.2807413079853864, 2.5169569411323414, 1.9023769688992858, 2.8175347075060553, 2.6878265041455753, 2.0862840494721477, 1.8160076721728575, 2.422688648459439, 3.112244477705158, 5.060959026545761, 1.9628520366532811, 1.9167739739367549, 2.079032432280125, 1.9746761803246649, 2.623127201979447, 1.7619214363956524, 1.796615771198758, 2.0240509245028298, 1.7907270891891598, 2.864413303617854, 1.7768042843335725, 4.685152576747877, 6.978298530987329, 3.6996154198655584, 4.744552931131464, 3.4695804949182785, 3.0548903089479023, 2.653289087107731, 4.071158179554851, 4.398165516574055, 4.57827681595526, 3.8833342577448864, 5.743538323663973, 3.0154941962261614, 2.5320741108419655, 2.279207787395303, 2.8725250502503483, 2.480006402358806, 3.1081609965632033, 2.187782012259538, 2.3203139626660194, 2.111845809824868, 2.068268460227446, 2.305852232725002, 1.8313873427039191, 4.413257265520922, 2.0439401291874266, 2.09317467722598, 2.0304702858875325, 3.5946903396166228, 1.9390700524384348, 2.079032432280125, 1.7635291230220664, 3.0548903089479023, 2.318973079906711, 2.6533608932522794, 2.7057474612149712, 2.535109695045082, 2.0351107515709517, 2.477733507028772, 1.737867687505361, 2.0718762222910674, 2.656972581332048, 2.7311406932726783, 3.030851360657689, 4.071158179554851, 3.002961221786229, 6.978298530987329, 3.6996154198655584, 5.743538323663973, 7.028666319525529, 2.739341219345725, 3.1395098096175165, 2.8175347075060553], \"Category\": [\"Default\", \"Default\", \"Default\", \"Default\", \"Default\", \"Default\", \"Default\", \"Default\", \"Default\", \"Default\", \"Default\", \"Default\", \"Default\", \"Default\", \"Default\", \"Default\", \"Default\", \"Default\", \"Default\", \"Default\", \"Default\", \"Default\", \"Default\", \"Default\", \"Default\", \"Default\", \"Default\", \"Default\", \"Default\", \"Default\", \"Topic1\", \"Topic1\", \"Topic1\", \"Topic1\", \"Topic1\", \"Topic1\", \"Topic1\", \"Topic1\", \"Topic1\", \"Topic1\", \"Topic1\", \"Topic1\", \"Topic1\", \"Topic1\", \"Topic1\", \"Topic1\", \"Topic1\", \"Topic1\", \"Topic1\", \"Topic1\", \"Topic1\", \"Topic1\", \"Topic1\", \"Topic1\", \"Topic1\", \"Topic1\", \"Topic1\", \"Topic1\", \"Topic1\", \"Topic1\", \"Topic1\", \"Topic1\", \"Topic1\", \"Topic1\", \"Topic1\", \"Topic1\", \"Topic2\", \"Topic2\", \"Topic2\", \"Topic2\", \"Topic2\", \"Topic2\", \"Topic2\", \"Topic2\", \"Topic2\", \"Topic2\", \"Topic2\", \"Topic2\", \"Topic2\", \"Topic2\", \"Topic2\", \"Topic2\", \"Topic2\", \"Topic2\", \"Topic2\", \"Topic2\", \"Topic2\", \"Topic2\", \"Topic2\", \"Topic2\", \"Topic2\", \"Topic2\", \"Topic2\", \"Topic2\", \"Topic2\", \"Topic2\", \"Topic2\", \"Topic2\", \"Topic2\", \"Topic2\", \"Topic2\", \"Topic2\", \"Topic2\", \"Topic2\", \"Topic2\", \"Topic2\", \"Topic2\", \"Topic2\", \"Topic2\", \"Topic2\", \"Topic3\", \"Topic3\", \"Topic3\", \"Topic3\", \"Topic3\", \"Topic3\", \"Topic3\", \"Topic3\", \"Topic3\", \"Topic3\", \"Topic3\", \"Topic3\", \"Topic3\", \"Topic3\", \"Topic3\", \"Topic3\", \"Topic3\", \"Topic3\", \"Topic3\", \"Topic3\", \"Topic3\", \"Topic3\", \"Topic3\", \"Topic3\", \"Topic3\", \"Topic3\", \"Topic3\", \"Topic3\", \"Topic3\", \"Topic3\", \"Topic3\", \"Topic3\", \"Topic3\", \"Topic3\", \"Topic3\", \"Topic3\", \"Topic3\", \"Topic3\", \"Topic4\", \"Topic4\", \"Topic4\", \"Topic4\", \"Topic4\", \"Topic4\", \"Topic4\", \"Topic4\", \"Topic4\", \"Topic4\", \"Topic4\", \"Topic4\", \"Topic4\", \"Topic4\", \"Topic4\", \"Topic4\", \"Topic4\", \"Topic4\", \"Topic4\", \"Topic4\", \"Topic4\", \"Topic4\", \"Topic4\", \"Topic4\", \"Topic4\", \"Topic4\", \"Topic4\", \"Topic4\", \"Topic4\", \"Topic4\", \"Topic4\", \"Topic4\", \"Topic4\", \"Topic4\", \"Topic4\", \"Topic4\", \"Topic4\", \"Topic4\", \"Topic4\", \"Topic4\", \"Topic4\", \"Topic4\", \"Topic5\", \"Topic5\", \"Topic5\", \"Topic5\", \"Topic5\", \"Topic5\", \"Topic5\", \"Topic5\", \"Topic5\", \"Topic5\", \"Topic5\", \"Topic5\", \"Topic5\", \"Topic5\", \"Topic5\", \"Topic5\", \"Topic5\", \"Topic5\", \"Topic5\", \"Topic5\", \"Topic5\", \"Topic5\", \"Topic5\", \"Topic5\", \"Topic5\", \"Topic5\", \"Topic5\", \"Topic5\", \"Topic5\", \"Topic5\", \"Topic5\", \"Topic5\", \"Topic5\", \"Topic5\", \"Topic5\", \"Topic5\", \"Topic5\", \"Topic5\", \"Topic5\", \"Topic5\", \"Topic5\"], \"logprob\": [30.0, 29.0, 28.0, 27.0, 26.0, 25.0, 24.0, 23.0, 22.0, 21.0, 20.0, 19.0, 18.0, 17.0, 16.0, 15.0, 14.0, 13.0, 12.0, 11.0, 10.0, 9.0, 8.0, 7.0, 6.0, 5.0, 4.0, 3.0, 2.0, 1.0, -4.0825, -4.4448, -4.509, -4.2802, -4.6334, -4.5872, -4.6933, -3.9073, -4.0798, -4.2644, -4.687, -3.9159, -4.6051, -4.6872, -4.6408, -4.6172, -4.5409, -4.2564, -4.1962, -4.9615, -4.8254, -4.2322, -4.5397, -4.5796, -4.736, -4.4792, -4.0754, -4.421, -4.7161, -4.6414, -4.5477, -4.559, -4.2725, -4.5677, -4.6393, -4.6865, -3.9149, -4.5211, -4.2858, -4.4014, -4.3313, -4.5036, -4.6092, -4.5349, -4.4875, -4.5456, -4.6008, -3.9292, -4.5753, -4.7431, -4.071, -4.7016, -4.3207, -4.8321, -4.8016, -4.6946, -4.9335, -4.3804, -4.8572, -4.9368, -4.9953, -4.8958, -3.9602, -4.9764, -4.9131, -5.001, -4.4133, -4.3706, -4.7521, -4.4974, -4.4068, -4.7361, -4.2494, -4.3663, -4.4678, -4.4486, -4.682, -4.4305, -4.6607, -4.6865, -4.3602, -4.1758, -4.5703, -3.7868, -3.8037, -4.6437, -4.4974, -4.5221, -3.8841, -4.6171, -4.6067, -3.7798, -4.5674, -4.3427, -4.3863, -4.7078, -4.3959, -4.6614, -4.3643, -4.595, -4.9429, -4.6155, -4.8651, -4.893, -4.8031, -5.0671, -4.8429, -4.5505, -4.7769, -4.7609, -3.9033, -4.4608, -4.1164, -4.6231, -4.5949, -4.7102, -4.5899, -4.7513, -4.0437, -4.0293, -4.1803, -4.4723, -4.4265, -4.3987, -4.5607, -4.4258, -4.4525, -4.5703, -4.4947, -4.779, -4.4256, -4.5086, -4.764, -4.9046, -4.6177, -4.368, -3.9163, -4.8652, -4.8902, -4.8133, -4.8941, -4.6241, -5.0253, -5.0355, -4.9239, -5.0531, -4.5951, -5.0877, -4.201, -3.8485, -4.4524, -4.3991, -4.6404, -4.7071, -4.7882, -4.716, -4.7168, -4.711, -4.7592, -4.7596, -3.8166, -3.9919, -4.2175, -4.1276, -4.3047, -4.1477, -4.5103, -4.5004, -4.6003, -4.6294, -4.5543, -4.7958, -3.9292, -4.7267, -4.7222, -4.7568, -4.186, -4.8115, -4.7458, -4.9157, -4.381, -4.663, -4.5387, -4.528, -4.6055, -4.8287, -4.634, -4.9909, -4.833, -4.5907, -4.5827, -4.5023, -4.3213, -4.5507, -4.0397, -4.465, -4.2567, -4.2031, -4.6347, -4.6005, -4.647], \"loglift\": [30.0, 29.0, 28.0, 27.0, 26.0, 25.0, 24.0, 23.0, 22.0, 21.0, 20.0, 19.0, 18.0, 17.0, 16.0, 15.0, 14.0, 13.0, 12.0, 11.0, 10.0, 9.0, 8.0, 7.0, 6.0, 5.0, 4.0, 3.0, 2.0, 1.0, 1.2095, 1.0441, 1.0339, 1.0102, 0.9366, 0.93, 0.9243, 0.8838, 0.8747, 0.8689, 0.8552, 0.8402, 0.8122, 0.7886, 0.7833, 0.7702, 0.753, 0.724, 0.7081, 0.7027, 0.6916, 0.6765, 0.6747, 0.6733, 0.6638, 0.663, 0.6576, 0.6502, 0.6021, 0.5959, 0.561, 0.439, 0.0549, 0.0881, -0.3047, 0.4526, 1.2644, 1.147, 1.1401, 1.0462, 0.9882, 0.9602, 0.9492, 0.9245, 0.9124, 0.893, 0.8837, 0.8599, 0.8273, 0.8259, 0.8046, 0.8036, 0.7962, 0.7754, 0.7719, 0.7526, 0.7376, 0.7245, 0.693, 0.6774, 0.6765, 0.6429, 0.6417, 0.6266, 0.6223, 0.6142, 0.5909, 0.5789, 0.5905, 0.5282, 0.386, 0.5526, 0.0851, 0.163, 0.2526, 0.1901, 0.4571, -0.1031, 0.1345, 0.2222, 1.1859, 1.1336, 1.0192, 0.9988, 0.9925, 0.9571, 0.938, 0.9268, 0.9111, 0.9073, 0.8928, 0.859, 0.8588, 0.7594, 0.7558, 0.7515, 0.744, 0.732, 0.6908, 0.6809, 0.6691, 0.6526, 0.6518, 0.649, 0.644, 0.6439, 0.6432, 0.618, 0.6112, 0.5863, 0.4241, 0.53, 0.4129, 0.5534, 0.4307, 0.4652, 0.012, 0.4829, 1.3385, 1.257, 1.1106, 1.0444, 1.0279, 0.9199, 0.9101, 0.9072, 0.8902, 0.8826, 0.8597, 0.8553, 0.8159, 0.7801, 0.7781, 0.7762, 0.7748, 0.774, 0.7395, 0.7378, 0.7366, 0.7322, 0.7029, 0.689, 0.6857, 0.656, 0.6484, 0.6417, 0.63, 0.6149, 0.532, 0.4861, 0.5168, 0.3213, 0.393, 0.4535, 0.5134, 0.1574, 0.0794, 0.0451, 0.1615, -0.2303, 1.357, 1.3565, 1.2361, 1.0946, 1.0644, 0.9957, 0.9842, 0.9353, 0.9295, 0.9213, 0.8877, 0.8765, 0.8636, 0.8358, 0.8165, 0.8123, 0.8119, 0.8037, 0.7997, 0.7944, 0.7797, 0.7733, 0.7629, 0.7541, 0.7416, 0.7382, 0.7361, 0.7339, 0.7159, 0.7095, 0.69, 0.6662, 0.5521, 0.6271, 0.2949, 0.5042, 0.2726, 0.1242, 0.6349, 0.5328, 0.5946]}, \"token.table\": {\"Topic\": [3, 4, 1, 3, 5, 4, 5, 5, 2, 4, 1, 2, 3, 4, 1, 1, 2, 2, 4, 5, 2, 3, 4, 2, 3, 3, 1, 2, 5, 1, 5, 1, 1, 3, 4, 4, 5, 1, 3, 2, 3, 1, 1, 2, 3, 4, 5, 3, 4, 2, 5, 1, 2, 2, 2, 1, 2, 3, 3, 5, 1, 2, 3, 4, 5, 4, 5, 3, 2, 1, 2, 3, 4, 5, 2, 3, 5, 3, 4, 1, 2, 3, 5, 1, 5, 1, 5, 1, 3, 4, 5, 3, 4, 3, 5, 4, 1, 2, 3, 4, 2, 4, 3, 4, 3, 5, 4, 5, 1, 5, 1, 2, 1, 2, 1, 2, 2, 4, 3, 5, 2, 5, 1, 1, 1, 2, 4, 4, 1, 3, 2, 3, 4, 1, 5, 2, 5, 2, 3, 4, 1, 5, 1, 1, 3, 4, 2, 3, 4, 3, 4, 5, 1, 5, 3, 5, 3, 2, 3, 2, 4, 1, 2, 4, 1, 5, 3, 2, 3, 2, 4, 1, 4, 5, 1, 2, 4, 5, 3, 3, 4, 1, 5, 1, 1, 2, 5, 1, 2, 3, 5, 1, 3, 3, 5, 1, 4, 1, 2, 4, 1, 2, 3, 4, 2, 3, 1, 2, 4, 4, 5, 1, 2, 3, 4, 4, 5, 2, 1, 2, 3, 4, 2, 4, 2, 5, 1, 4, 1, 3, 3, 4, 5, 3, 5, 4, 1, 2, 4, 5, 1, 2, 4, 1, 2, 4, 2, 4, 1, 4, 2, 3, 2, 3, 4, 2, 2, 3, 1, 4, 5, 1, 3, 5, 1, 2, 4, 3, 5, 2, 4, 1, 5, 2, 3, 5, 3, 4, 5, 2, 4, 1, 2, 3, 1, 2, 3, 4, 3, 4, 1, 2, 3, 2, 4, 5, 1, 2, 4, 5, 1, 4, 4, 1, 4, 1, 3, 1, 5, 1, 1, 4, 1, 5, 1, 5, 1, 3, 4, 4, 5, 2, 3, 4, 5, 1, 3, 5], \"Freq\": [0.3213115187973148, 0.3213115187973148, 0.7453437420174446, 0.40322476548805314, 0.40322476548805314, 0.3763682045595892, 0.3763682045595892, 0.431225359476889, 0.47616022513053474, 0.47616022513053474, 0.35232977649532154, 0.35232977649532154, 0.35232977649532154, 0.742314695359619, 0.4486178933282269, 0.4675704501498725, 0.4432474271155493, 0.392698506401343, 0.392698506401343, 0.5670447893065429, 0.37689070703187844, 0.37689070703187844, 0.37689070703187844, 0.4322318950193848, 0.4322318950193848, 0.45938603835835595, 0.3133313688970131, 0.3133313688970131, 0.3133313688970131, 0.32173365572302504, 0.6434673114460501, 0.5415843574148728, 0.33220355175377303, 0.33220355175377303, 0.33220355175377303, 0.35492020642583366, 0.35492020642583366, 0.36446969215642716, 0.36446969215642716, 0.41091683472699886, 0.41091683472699886, 0.4797653962032671, 0.27621252932648355, 0.27621252932648355, 0.27621252932648355, 0.43367913425147087, 0.43367913425147087, 0.4391389275909904, 0.4391389275909904, 0.47774321506949874, 0.47774321506949874, 0.37399554279036484, 0.37399554279036484, 0.545774440781877, 0.5453641820128724, 0.32035288239886267, 0.32035288239886267, 0.32035288239886267, 0.4532740706729504, 0.4532740706729504, 0.2859850539329502, 0.2859850539329502, 0.2859850539329502, 0.40359465501968844, 0.40359465501968844, 0.32734399564886435, 0.32734399564886435, 0.42689357703627556, 0.42676617366128017, 0.2575106683143768, 0.2575106683143768, 0.2575106683143768, 0.2575106683143768, 0.2575106683143768, 0.37688050748885477, 0.37688050748885477, 0.37688050748885477, 0.5506584665490414, 0.5506584665490414, 0.2650484351417321, 0.2650484351417321, 0.2650484351417321, 0.49249674174024816, 0.36958364161264573, 0.36958364161264573, 0.491373749181992, 0.491373749181992, 0.19759100888878894, 0.19759100888878894, 0.3951820177775779, 0.19759100888878894, 0.5064121449196728, 0.5064121449196728, 0.4834962284780142, 0.4834962284780142, 0.558432385390897, 0.2107680142924496, 0.2107680142924496, 0.2107680142924496, 0.2107680142924496, 0.4620019769666767, 0.4620019769666767, 0.5675621962155654, 0.5675621962155654, 0.3325803033689809, 0.3325803033689809, 0.3888995854055498, 0.3888995854055498, 0.6370421248161853, 0.31852106240809264, 0.3454153138450567, 0.3454153138450567, 0.4872249797034347, 0.4872249797034347, 0.35344397373538655, 0.35344397373538655, 0.5117770067187032, 0.5117770067187032, 0.48925112126329867, 0.48925112126329867, 0.6670139148168677, 0.5460341330761672, 0.4929513065279839, 0.46747347097858777, 0.31078577281119585, 0.31078577281119585, 0.31078577281119585, 0.8170763017358982, 0.41316071391772174, 0.41316071391772174, 0.2249647128437505, 0.449929425687501, 0.2249647128437505, 0.5169644718816055, 0.43097615930001526, 0.5157111259299126, 0.5157111259299126, 0.2945402228656824, 0.2945402228656824, 0.2945402228656824, 0.3213844937195182, 0.3213844937195182, 0.42603468574232733, 0.43684558195127376, 0.21842279097563688, 0.21842279097563688, 0.22713380004674205, 0.4542676000934841, 0.22713380004674205, 0.47932111653396897, 0.47932111653396897, 0.7898662963442882, 0.38319764348188484, 0.38319764348188484, 0.3299402976274633, 0.3299402976274633, 0.5026256632848928, 0.4359281033850078, 0.4359281033850078, 0.5628081881708603, 0.5628081881708603, 0.3491116309008079, 0.3491116309008079, 0.3491116309008079, 0.5754177991740325, 0.5754177991740325, 0.7596988932892216, 0.492449777454721, 0.492449777454721, 0.37204782319753443, 0.37204782319753443, 0.3650512732542476, 0.3650512732542476, 0.3650512732542476, 0.2456303479000028, 0.2456303479000028, 0.2456303479000028, 0.2456303479000028, 0.47097069495237015, 0.46731600862275197, 0.46731600862275197, 0.27818807895053654, 0.27818807895053654, 0.4545487917313512, 0.3095860039303156, 0.3095860039303156, 0.47351941858053004, 0.28454900390477067, 0.14227450195238533, 0.28454900390477067, 0.14227450195238533, 0.3589478009011085, 0.3589478009011085, 0.3944602483886666, 0.3944602483886666, 0.5217099217734869, 0.5217099217734869, 0.45242911801706265, 0.22621455900853132, 0.22621455900853132, 0.28821928226327365, 0.28821928226327365, 0.28821928226327365, 0.28821928226327365, 0.48326376107896946, 0.43673634169002973, 0.2993378388075204, 0.2993378388075204, 0.2993378388075204, 0.4809929775377655, 0.4809929775377655, 0.4794024473631927, 0.4923099255547112, 0.2461549627773556, 0.2461549627773556, 0.4940587155659788, 0.4940587155659788, 0.44130301419726353, 0.18721687616532706, 0.3744337523306541, 0.18721687616532706, 0.18721687616532706, 0.50946275181548, 0.50946275181548, 0.4169498508369434, 0.4169498508369434, 0.43845393447243486, 0.43845393447243486, 0.46744773433233155, 0.46744773433233155, 0.3812243642799276, 0.3812243642799276, 0.3812243642799276, 0.5140714748121159, 0.5140714748121159, 0.5566020381379424, 0.14330140729283394, 0.2866028145856679, 0.2866028145856679, 0.2866028145856679, 0.22575753468095588, 0.45151506936191177, 0.22575753468095588, 0.42688044140245857, 0.21344022070122928, 0.42688044140245857, 0.39730516786279024, 0.39730516786279024, 0.4157926028396605, 0.4157926028396605, 0.5437491412298515, 0.5083564518158229, 0.49467498375237257, 0.37286302055846016, 0.7457260411169203, 0.4361412366039413, 0.4524956114400269, 0.4524956114400269, 0.5066283704304261, 0.25331418521521304, 0.25331418521521304, 0.36731816141337953, 0.36731816141337953, 0.43874893966679884, 0.5088897427773023, 0.25444487138865113, 0.25444487138865113, 0.32063818328940874, 0.32063818328940874, 0.3837014733306777, 0.3837014733306777, 0.34812577175361703, 0.6962515435072341, 0.5151854482600183, 0.43084198871277285, 0.43084198871277285, 0.48128515564046803, 0.36614737661197433, 0.36614737661197433, 0.4158069846274918, 0.4158069846274918, 0.5466863924133872, 0.2733431962066936, 0.2733431962066936, 0.194240960283887, 0.194240960283887, 0.388481920567774, 0.194240960283887, 0.4412631478104775, 0.4412631478104775, 0.2799160174740301, 0.2799160174740301, 0.2799160174740301, 0.2265900082038304, 0.2265900082038304, 0.4531800164076608, 0.2702983652382818, 0.2702983652382818, 0.2702983652382818, 0.2702983652382818, 0.4127645542219752, 0.4127645542219752, 0.3833475568300053, 0.7465526864811008, 0.5256581720386362, 0.41066174965197316, 0.41066174965197316, 0.532710457064296, 0.266355228532148, 0.4231220581214511, 0.4463724292997981, 0.4463724292997981, 0.48265431556244537, 0.48265431556244537, 0.33300463314180845, 0.33300463314180845, 0.22736752317110354, 0.45473504634220707, 0.22736752317110354, 0.45708392993285535, 0.45708392993285535, 0.17410870157858901, 0.34821740315717803, 0.17410870157858901, 0.17410870157858901, 0.30872693854825534, 0.30872693854825534, 0.6632412035489789], \"Term\": [\"accus\", \"accus\", \"american\", \"announc\", \"announc\", \"anoth\", \"anoth\", \"appear\", \"arrest\", \"arrest\", \"attack\", \"attack\", \"attack\", \"billion\", \"bring\", \"build\", \"busi\", \"call\", \"call\", \"carolina\", \"case\", \"case\", \"case\", \"charg\", \"charg\", \"chines\", \"citi\", \"citi\", \"citi\", \"close\", \"close\", \"congress\", \"could\", \"could\", \"could\", \"court\", \"court\", \"critic\", \"critic\", \"cup\", \"cup\", \"data\", \"day\", \"day\", \"day\", \"de\", \"de\", \"defend\", \"defend\", \"defens\", \"defens\", \"democrat\", \"democrat\", \"depart\", \"dollar\", \"donald\", \"donald\", \"donald\", \"elect\", \"elect\", \"end\", \"end\", \"end\", \"european\", \"european\", \"even\", \"even\", \"execut\", \"expect\", \"feder\", \"feder\", \"feder\", \"feder\", \"feder\", \"final\", \"final\", \"final\", \"find\", \"find\", \"first\", \"first\", \"first\", \"forc\", \"former\", \"former\", \"forward\", \"forward\", \"friday\", \"friday\", \"friday\", \"friday\", \"full\", \"full\", \"game\", \"game\", \"global\", \"govern\", \"govern\", \"govern\", \"govern\", \"group\", \"group\", \"handl\", \"handl\", \"head\", \"head\", \"health\", \"health\", \"help\", \"help\", \"hous\", \"hous\", \"hundr\", \"hundr\", \"includ\", \"includ\", \"india\", \"india\", \"intern\", \"intern\", \"investig\", \"januari\", \"job\", \"key\", \"kill\", \"kill\", \"kill\", \"know\", \"last\", \"last\", \"latest\", \"latest\", \"latest\", \"law\", \"lawyer\", \"lead\", \"lead\", \"leader\", \"leader\", \"leader\", \"leagu\", \"leagu\", \"leav\", \"like\", \"like\", \"like\", \"local\", \"local\", \"local\", \"long\", \"long\", \"look\", \"made\", \"made\", \"make\", \"make\", \"maker\", \"man\", \"man\", \"march\", \"march\", \"market\", \"market\", \"market\", \"mayor\", \"mayor\", \"meet\", \"men\", \"men\", \"million\", \"million\", \"minist\", \"minist\", \"minist\", \"monday\", \"monday\", \"monday\", \"monday\", \"money\", \"month\", \"month\", \"move\", \"move\", \"much\", \"nation\", \"nation\", \"need\", \"new\", \"new\", \"new\", \"new\", \"night\", \"night\", \"north\", \"north\", \"offic\", \"offic\", \"offici\", \"offici\", \"offici\", \"one\", \"one\", \"one\", \"one\", \"parti\", \"partial\", \"peopl\", \"peopl\", \"peopl\", \"play\", \"play\", \"point\", \"polic\", \"polic\", \"polic\", \"port\", \"port\", \"power\", \"presid\", \"presid\", \"presid\", \"presid\", \"price\", \"price\", \"protest\", \"protest\", \"provid\", \"provid\", \"recent\", \"recent\", \"report\", \"report\", \"report\", \"republican\", \"republican\", \"round\", \"said\", \"said\", \"said\", \"said\", \"saturday\", \"saturday\", \"saturday\", \"say\", \"say\", \"say\", \"school\", \"school\", \"score\", \"score\", \"search\", \"season\", \"secur\", \"set\", \"set\", \"sever\", \"shoot\", \"shoot\", \"show\", \"show\", \"show\", \"shutdown\", \"shutdown\", \"south\", \"state\", \"state\", \"state\", \"sunday\", \"sunday\", \"suspect\", \"suspect\", \"talk\", \"talk\", \"target\", \"team\", \"team\", \"tenni\", \"test\", \"test\", \"thousand\", \"thousand\", \"thursday\", \"thursday\", \"thursday\", \"time\", \"time\", \"time\", \"time\", \"tri\", \"tri\", \"trump\", \"trump\", \"trump\", \"tuesday\", \"tuesday\", \"tuesday\", \"two\", \"two\", \"two\", \"two\", \"unit\", \"unit\", \"want\", \"warn\", \"washington\", \"way\", \"way\", \"week\", \"week\", \"weekend\", \"white\", \"white\", \"win\", \"win\", \"work\", \"work\", \"world\", \"world\", \"world\", \"would\", \"would\", \"year\", \"year\", \"year\", \"year\", \"york\", \"york\", \"young\"]}, \"R\": 30, \"lambda.step\": 0.01, \"plot.opts\": {\"xlab\": \"PC1\", \"ylab\": \"PC2\"}, \"topic.order\": [1, 4, 2, 3, 5]};\n",
       "\n",
       "function LDAvis_load_lib(url, callback){\n",
       "  var s = document.createElement('script');\n",
       "  s.src = url;\n",
       "  s.async = true;\n",
       "  s.onreadystatechange = s.onload = callback;\n",
       "  s.onerror = function(){console.warn(\"failed to load library \" + url);};\n",
       "  document.getElementsByTagName(\"head\")[0].appendChild(s);\n",
       "}\n",
       "\n",
       "if(typeof(LDAvis) !== \"undefined\"){\n",
       "   // already loaded: just create the visualization\n",
       "   !function(LDAvis){\n",
       "       new LDAvis(\"#\" + \"ldavis_el184872776672727849817645010\", ldavis_el184872776672727849817645010_data);\n",
       "   }(LDAvis);\n",
       "}else if(typeof define === \"function\" && define.amd){\n",
       "   // require.js is available: use it to load d3/LDAvis\n",
       "   require.config({paths: {d3: \"https://d3js.org/d3.v5\"}});\n",
       "   require([\"d3\"], function(d3){\n",
       "      window.d3 = d3;\n",
       "      LDAvis_load_lib(\"https://cdn.jsdelivr.net/gh/bmabey/pyLDAvis@3.4.0/pyLDAvis/js/ldavis.v3.0.0.js\", function(){\n",
       "        new LDAvis(\"#\" + \"ldavis_el184872776672727849817645010\", ldavis_el184872776672727849817645010_data);\n",
       "      });\n",
       "    });\n",
       "}else{\n",
       "    // require.js not available: dynamically load d3 & LDAvis\n",
       "    LDAvis_load_lib(\"https://d3js.org/d3.v5.js\", function(){\n",
       "         LDAvis_load_lib(\"https://cdn.jsdelivr.net/gh/bmabey/pyLDAvis@3.4.0/pyLDAvis/js/ldavis.v3.0.0.js\", function(){\n",
       "                 new LDAvis(\"#\" + \"ldavis_el184872776672727849817645010\", ldavis_el184872776672727849817645010_data);\n",
       "            })\n",
       "         });\n",
       "}\n",
       "</script>"
      ],
      "text/plain": [
       "<IPython.core.display.HTML object>"
      ]
     },
     "execution_count": 27,
     "metadata": {},
     "output_type": "execute_result"
    }
   ],
   "source": [
    "#=================================================-\n",
    "#### Slide 5/29: Visualize topics generated with LDA  ####\n",
    "\n",
    "# Prepare LDA vis object by providing:\n",
    "vis = pyLDAvis.gensim.prepare(lda_model_tfidf,   #<- model object\n",
    "                              corpus_tfidf,      #<- corpus object\n",
    "                              dictionary)        #<- dictionary object\n",
    "# The function takes `vis` object that we prepared above as the main argument.\n",
    "pyLDAvis.display(vis)\n",
    "\n",
    "\n"
   ]
  },
  {
   "cell_type": "code",
   "execution_count": 28,
   "id": "db0a53a0",
   "metadata": {
    "execution": {
     "iopub.execute_input": "2024-04-10T07:53:25.832373Z",
     "iopub.status.busy": "2024-04-10T07:53:25.830842Z",
     "iopub.status.idle": "2024-04-10T07:53:25.857324Z",
     "shell.execute_reply": "2024-04-10T07:53:25.854797Z"
    }
   },
   "outputs": [
    {
     "name": "stdout",
     "output_type": "stream",
     "text": [
      "[(0, 0.31942373876087665), (1, 0.3549009519669791), (2, 0.6118718565633235), (3, 0.3549009519669791), (4, 0.3059359282816618), (5, 0.22829905152454918), (6, 0.3549009519669791)]\n",
      "[(0, 0.061035324), (1, 0.057895817), (2, 0.05766566), (3, 0.76453054), (4, 0.05887262)]\n"
     ]
    }
   ],
   "source": [
    "#=================================================-\n",
    "#### Slide 16/29: Get topic probabilities for a document  ####\n",
    "\n",
    "# Select the index of the document in corpus.\n",
    "doc_num = 0\n",
    "# Extract the vector of tf_idf weights for the document.\n",
    "doc_vec = corpus_tfidf[doc_num]  \n",
    "print(doc_vec)\n",
    "# Extract topic probabilities for that document.\n",
    "doc_topics = lda_model_tfidf.get_document_topics(doc_vec)\n",
    "print(doc_topics)\n",
    "topic, prob = sorted(doc_topics, key=lambda x: x[1], reverse=True)[0]\n",
    "\n",
    "\n"
   ]
  },
  {
   "cell_type": "code",
   "execution_count": 29,
   "id": "ea6bb4b4",
   "metadata": {
    "execution": {
     "iopub.execute_input": "2024-04-10T07:53:25.868759Z",
     "iopub.status.busy": "2024-04-10T07:53:25.867274Z",
     "iopub.status.idle": "2024-04-10T07:53:25.893364Z",
     "shell.execute_reply": "2024-04-10T07:53:25.889479Z"
    }
   },
   "outputs": [
    {
     "name": "stdout",
     "output_type": "stream",
     "text": [
      "(0, 3, 0.76453054)\n"
     ]
    }
   ],
   "source": [
    "#=================================================-\n",
    "#### Slide 17/29: Get topic probabilities for a document (cont'd)  ####\n",
    "\n",
    "# Initialize maximum probability score.\n",
    "max_prob = 0    \n",
    "# Initialize best topic.\n",
    "best_topic = 0\n",
    "\n",
    "# Loop over all topics for the document.\n",
    "for topic in doc_topics:\n",
    "    \n",
    "    if max_prob <= topic[1]:  #<- if current topic's probability is as high as max\n",
    "        max_prob = topic[1]   #<- make current topic's probability the new max\n",
    "        best_topic = topic[0] #<- make current topic best\n",
    "\n",
    "# Create a tuple with information we just got.\n",
    "doc_topic_pair = (doc_num, best_topic, max_prob)\n",
    "print(doc_topic_pair)\n",
    "\n",
    "\n"
   ]
  },
  {
   "cell_type": "code",
   "execution_count": 30,
   "id": "d790550b",
   "metadata": {
    "execution": {
     "iopub.execute_input": "2024-04-10T07:53:25.904927Z",
     "iopub.status.busy": "2024-04-10T07:53:25.903226Z",
     "iopub.status.idle": "2024-04-10T07:53:25.921219Z",
     "shell.execute_reply": "2024-04-10T07:53:25.918776Z"
    }
   },
   "outputs": [],
   "source": [
    "#=================================================-\n",
    "#### Slide 18/29: Get topic probabilities for a document (cont'd)  ####\n",
    "\n",
    "# Put it all together into a function that returns a tuple\n",
    "# with the index of the document, the best fit topic, and its probability.\n",
    "def GetDocTopicPair(doc_num, corpus, lda_model_tfidf):\n",
    "    # Extract the vector of tf_idf weights for the document.\n",
    "    doc_vec = corpus[doc_num]  \n",
    "    # Extract topic probabilities for that document.\n",
    "    doc_topics = lda_model_tfidf.get_document_topics(doc_vec)\n",
    "    max_prob = 0\n",
    "    best_topic = 0\n",
    "    for topic in doc_topics:\n",
    "        if max_prob <= topic[1]:\n",
    "            max_prob = topic[1]\n",
    "            best_topic = topic[0]\n",
    "    doc_topic_pair = (doc_num, best_topic, max_prob)\n",
    "    return(doc_topic_pair)\n",
    "\n",
    "\n"
   ]
  },
  {
   "cell_type": "code",
   "execution_count": 31,
   "id": "0fbff4f4",
   "metadata": {
    "execution": {
     "iopub.execute_input": "2024-04-10T07:53:25.931033Z",
     "iopub.status.busy": "2024-04-10T07:53:25.930137Z",
     "iopub.status.idle": "2024-04-10T07:53:26.343726Z",
     "shell.execute_reply": "2024-04-10T07:53:26.339679Z"
    }
   },
   "outputs": [
    {
     "name": "stdout",
     "output_type": "stream",
     "text": [
      "[(0, 3, 0.76459086), (1, 3, 0.78746593), (2, 4, 0.79796255), (3, 4, 0.759788), (4, 4, 0.60179013), (5, 0, 0.69887763), (6, 0, 0.59798664), (7, 1, 0.72208107), (8, 0, 0.7621713), (9, 1, 0.7704533)]\n"
     ]
    }
   ],
   "source": [
    "#=================================================-\n",
    "#### Slide 19/29: Get topic probabilities for all documents  ####\n",
    "\n",
    "# Create an empty list of the same length as the number of documents.\n",
    "doc_topic_pairs = [None]*dictionary.num_docs\n",
    "\n",
    "# Loop through a range of document indices.\n",
    "for i in range(dictionary.num_docs):\n",
    "    # For each document index, get the document-topic tuple.\n",
    "    doc_topic_pairs[i] = GetDocTopicPair(i, corpus_tfidf, lda_model_tfidf)\n",
    "    \n",
    "print(doc_topic_pairs[:10])\n",
    "\n",
    "\n"
   ]
  },
  {
   "cell_type": "code",
   "execution_count": 32,
   "id": "c379eff3",
   "metadata": {
    "execution": {
     "iopub.execute_input": "2024-04-10T07:53:26.356223Z",
     "iopub.status.busy": "2024-04-10T07:53:26.354695Z",
     "iopub.status.idle": "2024-04-10T07:53:26.381986Z",
     "shell.execute_reply": "2024-04-10T07:53:26.379554Z"
    }
   },
   "outputs": [
    {
     "name": "stdout",
     "output_type": "stream",
     "text": [
      "   doc_id  best_topic  best_probability\n",
      "0       0           3          0.764591\n",
      "1       1           3          0.787466\n",
      "2       2           4          0.797963\n",
      "3       3           4          0.759788\n",
      "4       4           4          0.601790\n"
     ]
    }
   ],
   "source": [
    "#=================================================-\n",
    "#### Slide 20/29: Create a data frame with doc-topic assignments  ####\n",
    "\n",
    "# Make a dataframe out of a list of tuples.\n",
    "doc_topic_pairs_df = pd.DataFrame(doc_topic_pairs)\n",
    "\n",
    "# Assign column names to the dataframe.\n",
    "doc_topic_pairs_df.columns = [\"doc_id\", \"best_topic\", \"best_probability\"]\n",
    "print(doc_topic_pairs_df.head())\n",
    "\n",
    "\n"
   ]
  },
  {
   "cell_type": "code",
   "execution_count": 33,
   "id": "dd895d7f",
   "metadata": {
    "execution": {
     "iopub.execute_input": "2024-04-10T07:53:26.392831Z",
     "iopub.status.busy": "2024-04-10T07:53:26.391407Z",
     "iopub.status.idle": "2024-04-10T07:53:26.413603Z",
     "shell.execute_reply": "2024-04-10T07:53:26.411235Z"
    }
   },
   "outputs": [
    {
     "name": "stdout",
     "output_type": "stream",
     "text": [
      "   doc_id  best_topic  best_probability\n",
      "0       0           3          0.764591\n",
      "1       1           3          0.787466\n",
      "2       2           4          0.797963\n",
      "3       3           4          0.759788\n",
      "4       4           4          0.601790\n",
      "5       5           0          0.698878\n",
      "6       6           0          0.597987\n",
      "7       7           1          0.722081\n",
      "8       8           0          0.762171\n",
      "9       9           1          0.770453\n"
     ]
    }
   ],
   "source": [
    "#=================================================-\n",
    "#### Slide 21/29: Matching document ids to original data  ####\n",
    "\n",
    "# Find indices of documents that we kept.\n",
    "valid_documents = np.where(word_counts_array >= 5)[0]\n",
    "# Now assign the index of the original document to be the index of the dataframe.\n",
    "doc_topic_pairs_df.index = valid_documents\n",
    "print(doc_topic_pairs_df.iloc[0:10, ])\n",
    "\n",
    "\n"
   ]
  },
  {
   "cell_type": "code",
   "execution_count": 34,
   "id": "dbe755f6",
   "metadata": {
    "execution": {
     "iopub.execute_input": "2024-04-10T07:53:26.423207Z",
     "iopub.status.busy": "2024-04-10T07:53:26.422305Z",
     "iopub.status.idle": "2024-04-10T07:53:26.454596Z",
     "shell.execute_reply": "2024-04-10T07:53:26.452222Z"
    }
   },
   "outputs": [
    {
     "name": "stdout",
     "output_type": "stream",
     "text": [
      "     doc_id  best_topic  best_probability\n",
      "221     219           2          0.806243\n",
      "145     143           2          0.804119\n",
      "68       68           2          0.802445\n",
      "164     162           2          0.800099\n",
      "97       97           2          0.798324\n",
      "(39, 3)\n"
     ]
    }
   ],
   "source": [
    "#=================================================-\n",
    "#### Slide 22/29: Inspect documents for a given topic  ####\n",
    "\n",
    "# Filter and sort all documents assigned to topic 3 by probability in descending order.\n",
    "topic3_docs = doc_topic_pairs_df.query(\"best_topic==2\")\n",
    "topic3_docs = topic3_docs.sort_values(by = \"best_probability\", ascending = False)\n",
    "print(topic3_docs.head())\n",
    "# Let's see how many documents were assigned to that topic.\n",
    "print(topic3_docs.shape)\n",
    "\n",
    "\n"
   ]
  },
  {
   "cell_type": "code",
   "execution_count": 35,
   "id": "ed2e1851",
   "metadata": {
    "execution": {
     "iopub.execute_input": "2024-04-10T07:53:26.464215Z",
     "iopub.status.busy": "2024-04-10T07:53:26.463300Z",
     "iopub.status.idle": "2024-04-10T07:53:26.487471Z",
     "shell.execute_reply": "2024-04-10T07:53:26.485065Z"
    }
   },
   "outputs": [
    {
     "name": "stdout",
     "output_type": "stream",
     "text": [
      "                                               snippet\n",
      "221  Job openings are outnumbering unemployed worke...\n",
      "145  India's central bank, having changed leadershi...\n",
      "68   Greece's public order minister strongly critic...\n",
      "164  Britain is testing how its motorway and ferry ...\n",
      "97   India's Supreme Court is likely to name a pane...\n",
      "125  Global stocks soared Friday and reversed the b...\n",
      "203  SoftBank Group Corp will inject another $2 bil...\n",
      "41   China's population is set to reach a peak of 1...\n",
      "142  Thousands of demonstrators marched in Hong Kon...\n",
      "80   An executive at a San Diego television station...\n"
     ]
    }
   ],
   "source": [
    "#=================================================-\n",
    "#### Slide 23/29: Inspect documents for a given topic (cont'd)  ####\n",
    "\n",
    "# Let's get the top 10 documents that were assigned to that topic.\n",
    "top_10 = topic3_docs.index[0:10,]\n",
    "# Inspect the top 10 documents in topic 3.\n",
    "df_topic3 = df.loc[top_10, :]\n",
    "print(df_topic3[['snippet']])\n",
    "\n",
    "\n"
   ]
  },
  {
   "cell_type": "code",
   "execution_count": 36,
   "id": "56e708ff",
   "metadata": {
    "execution": {
     "iopub.execute_input": "2024-04-10T07:53:26.497974Z",
     "iopub.status.busy": "2024-04-10T07:53:26.496504Z",
     "iopub.status.idle": "2024-04-10T07:53:26.519682Z",
     "shell.execute_reply": "2024-04-10T07:53:26.517484Z"
    }
   },
   "outputs": [],
   "source": [
    "#=================================================-\n",
    "#### Slide 24/29: Save LDA visualization to HTML file  ####\n",
    "\n",
    "# Save the plot as a self-contained HTML file.\n",
    "pyLDAvis.save_html(vis, str(plot_dir) +\"/df_LDAvis.html\")\n",
    "\n",
    "\n"
   ]
  },
  {
   "cell_type": "code",
   "execution_count": 37,
   "id": "65282278",
   "metadata": {
    "execution": {
     "iopub.execute_input": "2024-04-10T07:53:26.531382Z",
     "iopub.status.busy": "2024-04-10T07:53:26.530251Z",
     "iopub.status.idle": "2024-04-10T07:53:26.542291Z",
     "shell.execute_reply": "2024-04-10T07:53:26.538247Z"
    }
   },
   "outputs": [],
   "source": [
    "#=================================================-\n",
    "#### Slide 26/29: Exercise  ####\n",
    "\n",
    "\n",
    "\n",
    "\n",
    "#######################################################\n",
    "####  CONGRATULATIONS ON COMPLETING THIS MODULE!   ####\n",
    "#######################################################\n"
   ]
  }
 ],
 "metadata": {
  "language": "python",
  "language_info": {
   "codemirror_mode": {
    "name": "ipython",
    "version": 3
   },
   "file_extension": ".py",
   "mimetype": "text/x-python",
   "name": "python",
   "nbconvert_exporter": "python",
   "pygments_lexer": "ipython3",
   "version": "3.11.5"
  }
 },
 "nbformat": 4,
 "nbformat_minor": 5
}
